{
  "nbformat": 4,
  "nbformat_minor": 0,
  "metadata": {
    "colab": {
      "name": "xAutoML HW project breast-cancer.ipynb",
      "provenance": [],
      "collapsed_sections": [],
      "authorship_tag": "ABX9TyPrWG7q3elrWA1Ek/Iqz7le",
      "include_colab_link": true
    },
    "kernelspec": {
      "name": "python3",
      "display_name": "Python 3"
    },
    "language_info": {
      "name": "python"
    }
  },
  "cells": [
    {
      "cell_type": "markdown",
      "metadata": {
        "id": "view-in-github",
        "colab_type": "text"
      },
      "source": [
        "<a href=\"https://colab.research.google.com/github/dsphd/animated-barnacle/blob/main/xAutoML_HW_project_breast_cancer.ipynb\" target=\"_parent\"><img src=\"https://colab.research.google.com/assets/colab-badge.svg\" alt=\"Open In Colab\"/></a>"
      ]
    },
    {
      "cell_type": "code",
      "execution_count": null,
      "metadata": {
        "colab": {
          "base_uri": "https://localhost:8080/",
          "height": 314
        },
        "id": "SwkELW-RXAs0",
        "outputId": "630bd452-fe0a-4f3e-cef5-93d26e1b3f9d"
      },
      "outputs": [
        {
          "output_type": "execute_result",
          "data": {
            "text/html": [
              "\n",
              "  <div id=\"df-bf35085f-dd46-442e-8a3e-046c8e4b7db2\">\n",
              "    <div class=\"colab-df-container\">\n",
              "      <div>\n",
              "<style scoped>\n",
              "    .dataframe tbody tr th:only-of-type {\n",
              "        vertical-align: middle;\n",
              "    }\n",
              "\n",
              "    .dataframe tbody tr th {\n",
              "        vertical-align: top;\n",
              "    }\n",
              "\n",
              "    .dataframe thead th {\n",
              "        text-align: right;\n",
              "    }\n",
              "</style>\n",
              "<table border=\"1\" class=\"dataframe\">\n",
              "  <thead>\n",
              "    <tr style=\"text-align: right;\">\n",
              "      <th></th>\n",
              "      <th>id</th>\n",
              "      <th>radius_mean</th>\n",
              "      <th>texture_mean</th>\n",
              "      <th>perimeter_mean</th>\n",
              "      <th>area_mean</th>\n",
              "      <th>smoothness_mean</th>\n",
              "      <th>compactness_mean</th>\n",
              "      <th>concavity_mean</th>\n",
              "      <th>concave points_mean</th>\n",
              "      <th>symmetry_mean</th>\n",
              "      <th>fractal_dimension_mean</th>\n",
              "      <th>radius_se</th>\n",
              "      <th>texture_se</th>\n",
              "      <th>perimeter_se</th>\n",
              "      <th>area_se</th>\n",
              "      <th>smoothness_se</th>\n",
              "      <th>compactness_se</th>\n",
              "      <th>concavity_se</th>\n",
              "      <th>concave points_se</th>\n",
              "      <th>symmetry_se</th>\n",
              "      <th>fractal_dimension_se</th>\n",
              "      <th>radius_worst</th>\n",
              "      <th>texture_worst</th>\n",
              "      <th>perimeter_worst</th>\n",
              "      <th>area_worst</th>\n",
              "      <th>smoothness_worst</th>\n",
              "      <th>compactness_worst</th>\n",
              "      <th>concavity_worst</th>\n",
              "      <th>concave points_worst</th>\n",
              "      <th>symmetry_worst</th>\n",
              "      <th>fractal_dimension_worst</th>\n",
              "    </tr>\n",
              "  </thead>\n",
              "  <tbody>\n",
              "    <tr>\n",
              "      <th>count</th>\n",
              "      <td>5.690000e+02</td>\n",
              "      <td>569.000000</td>\n",
              "      <td>569.000000</td>\n",
              "      <td>569.000000</td>\n",
              "      <td>569.000000</td>\n",
              "      <td>569.000000</td>\n",
              "      <td>569.000000</td>\n",
              "      <td>569.000000</td>\n",
              "      <td>569.000000</td>\n",
              "      <td>569.000000</td>\n",
              "      <td>569.000000</td>\n",
              "      <td>569.000000</td>\n",
              "      <td>569.000000</td>\n",
              "      <td>569.000000</td>\n",
              "      <td>569.000000</td>\n",
              "      <td>569.000000</td>\n",
              "      <td>569.000000</td>\n",
              "      <td>569.000000</td>\n",
              "      <td>569.000000</td>\n",
              "      <td>569.000000</td>\n",
              "      <td>569.000000</td>\n",
              "      <td>569.000000</td>\n",
              "      <td>569.000000</td>\n",
              "      <td>569.000000</td>\n",
              "      <td>569.000000</td>\n",
              "      <td>569.000000</td>\n",
              "      <td>569.000000</td>\n",
              "      <td>569.000000</td>\n",
              "      <td>569.000000</td>\n",
              "      <td>569.000000</td>\n",
              "      <td>569.000000</td>\n",
              "    </tr>\n",
              "    <tr>\n",
              "      <th>mean</th>\n",
              "      <td>3.037183e+07</td>\n",
              "      <td>14.127292</td>\n",
              "      <td>19.289649</td>\n",
              "      <td>91.969033</td>\n",
              "      <td>654.889104</td>\n",
              "      <td>0.096360</td>\n",
              "      <td>0.104341</td>\n",
              "      <td>0.088799</td>\n",
              "      <td>0.048919</td>\n",
              "      <td>0.181162</td>\n",
              "      <td>0.062798</td>\n",
              "      <td>0.405172</td>\n",
              "      <td>1.216853</td>\n",
              "      <td>2.866059</td>\n",
              "      <td>40.337079</td>\n",
              "      <td>0.007041</td>\n",
              "      <td>0.025478</td>\n",
              "      <td>0.031894</td>\n",
              "      <td>0.011796</td>\n",
              "      <td>0.020542</td>\n",
              "      <td>0.003795</td>\n",
              "      <td>16.269190</td>\n",
              "      <td>25.677223</td>\n",
              "      <td>107.261213</td>\n",
              "      <td>880.583128</td>\n",
              "      <td>0.132369</td>\n",
              "      <td>0.254265</td>\n",
              "      <td>0.272188</td>\n",
              "      <td>0.114606</td>\n",
              "      <td>0.290076</td>\n",
              "      <td>0.083946</td>\n",
              "    </tr>\n",
              "    <tr>\n",
              "      <th>std</th>\n",
              "      <td>1.250206e+08</td>\n",
              "      <td>3.524049</td>\n",
              "      <td>4.301036</td>\n",
              "      <td>24.298981</td>\n",
              "      <td>351.914129</td>\n",
              "      <td>0.014064</td>\n",
              "      <td>0.052813</td>\n",
              "      <td>0.079720</td>\n",
              "      <td>0.038803</td>\n",
              "      <td>0.027414</td>\n",
              "      <td>0.007060</td>\n",
              "      <td>0.277313</td>\n",
              "      <td>0.551648</td>\n",
              "      <td>2.021855</td>\n",
              "      <td>45.491006</td>\n",
              "      <td>0.003003</td>\n",
              "      <td>0.017908</td>\n",
              "      <td>0.030186</td>\n",
              "      <td>0.006170</td>\n",
              "      <td>0.008266</td>\n",
              "      <td>0.002646</td>\n",
              "      <td>4.833242</td>\n",
              "      <td>6.146258</td>\n",
              "      <td>33.602542</td>\n",
              "      <td>569.356993</td>\n",
              "      <td>0.022832</td>\n",
              "      <td>0.157336</td>\n",
              "      <td>0.208624</td>\n",
              "      <td>0.065732</td>\n",
              "      <td>0.061867</td>\n",
              "      <td>0.018061</td>\n",
              "    </tr>\n",
              "    <tr>\n",
              "      <th>min</th>\n",
              "      <td>8.670000e+03</td>\n",
              "      <td>6.981000</td>\n",
              "      <td>9.710000</td>\n",
              "      <td>43.790000</td>\n",
              "      <td>143.500000</td>\n",
              "      <td>0.052630</td>\n",
              "      <td>0.019380</td>\n",
              "      <td>0.000000</td>\n",
              "      <td>0.000000</td>\n",
              "      <td>0.106000</td>\n",
              "      <td>0.049960</td>\n",
              "      <td>0.111500</td>\n",
              "      <td>0.360200</td>\n",
              "      <td>0.757000</td>\n",
              "      <td>6.802000</td>\n",
              "      <td>0.001713</td>\n",
              "      <td>0.002252</td>\n",
              "      <td>0.000000</td>\n",
              "      <td>0.000000</td>\n",
              "      <td>0.007882</td>\n",
              "      <td>0.000895</td>\n",
              "      <td>7.930000</td>\n",
              "      <td>12.020000</td>\n",
              "      <td>50.410000</td>\n",
              "      <td>185.200000</td>\n",
              "      <td>0.071170</td>\n",
              "      <td>0.027290</td>\n",
              "      <td>0.000000</td>\n",
              "      <td>0.000000</td>\n",
              "      <td>0.156500</td>\n",
              "      <td>0.055040</td>\n",
              "    </tr>\n",
              "    <tr>\n",
              "      <th>25%</th>\n",
              "      <td>8.692180e+05</td>\n",
              "      <td>11.700000</td>\n",
              "      <td>16.170000</td>\n",
              "      <td>75.170000</td>\n",
              "      <td>420.300000</td>\n",
              "      <td>0.086370</td>\n",
              "      <td>0.064920</td>\n",
              "      <td>0.029560</td>\n",
              "      <td>0.020310</td>\n",
              "      <td>0.161900</td>\n",
              "      <td>0.057700</td>\n",
              "      <td>0.232400</td>\n",
              "      <td>0.833900</td>\n",
              "      <td>1.606000</td>\n",
              "      <td>17.850000</td>\n",
              "      <td>0.005169</td>\n",
              "      <td>0.013080</td>\n",
              "      <td>0.015090</td>\n",
              "      <td>0.007638</td>\n",
              "      <td>0.015160</td>\n",
              "      <td>0.002248</td>\n",
              "      <td>13.010000</td>\n",
              "      <td>21.080000</td>\n",
              "      <td>84.110000</td>\n",
              "      <td>515.300000</td>\n",
              "      <td>0.116600</td>\n",
              "      <td>0.147200</td>\n",
              "      <td>0.114500</td>\n",
              "      <td>0.064930</td>\n",
              "      <td>0.250400</td>\n",
              "      <td>0.071460</td>\n",
              "    </tr>\n",
              "    <tr>\n",
              "      <th>50%</th>\n",
              "      <td>9.060240e+05</td>\n",
              "      <td>13.370000</td>\n",
              "      <td>18.840000</td>\n",
              "      <td>86.240000</td>\n",
              "      <td>551.100000</td>\n",
              "      <td>0.095870</td>\n",
              "      <td>0.092630</td>\n",
              "      <td>0.061540</td>\n",
              "      <td>0.033500</td>\n",
              "      <td>0.179200</td>\n",
              "      <td>0.061540</td>\n",
              "      <td>0.324200</td>\n",
              "      <td>1.108000</td>\n",
              "      <td>2.287000</td>\n",
              "      <td>24.530000</td>\n",
              "      <td>0.006380</td>\n",
              "      <td>0.020450</td>\n",
              "      <td>0.025890</td>\n",
              "      <td>0.010930</td>\n",
              "      <td>0.018730</td>\n",
              "      <td>0.003187</td>\n",
              "      <td>14.970000</td>\n",
              "      <td>25.410000</td>\n",
              "      <td>97.660000</td>\n",
              "      <td>686.500000</td>\n",
              "      <td>0.131300</td>\n",
              "      <td>0.211900</td>\n",
              "      <td>0.226700</td>\n",
              "      <td>0.099930</td>\n",
              "      <td>0.282200</td>\n",
              "      <td>0.080040</td>\n",
              "    </tr>\n",
              "    <tr>\n",
              "      <th>75%</th>\n",
              "      <td>8.813129e+06</td>\n",
              "      <td>15.780000</td>\n",
              "      <td>21.800000</td>\n",
              "      <td>104.100000</td>\n",
              "      <td>782.700000</td>\n",
              "      <td>0.105300</td>\n",
              "      <td>0.130400</td>\n",
              "      <td>0.130700</td>\n",
              "      <td>0.074000</td>\n",
              "      <td>0.195700</td>\n",
              "      <td>0.066120</td>\n",
              "      <td>0.478900</td>\n",
              "      <td>1.474000</td>\n",
              "      <td>3.357000</td>\n",
              "      <td>45.190000</td>\n",
              "      <td>0.008146</td>\n",
              "      <td>0.032450</td>\n",
              "      <td>0.042050</td>\n",
              "      <td>0.014710</td>\n",
              "      <td>0.023480</td>\n",
              "      <td>0.004558</td>\n",
              "      <td>18.790000</td>\n",
              "      <td>29.720000</td>\n",
              "      <td>125.400000</td>\n",
              "      <td>1084.000000</td>\n",
              "      <td>0.146000</td>\n",
              "      <td>0.339100</td>\n",
              "      <td>0.382900</td>\n",
              "      <td>0.161400</td>\n",
              "      <td>0.317900</td>\n",
              "      <td>0.092080</td>\n",
              "    </tr>\n",
              "    <tr>\n",
              "      <th>max</th>\n",
              "      <td>9.113205e+08</td>\n",
              "      <td>28.110000</td>\n",
              "      <td>39.280000</td>\n",
              "      <td>188.500000</td>\n",
              "      <td>2501.000000</td>\n",
              "      <td>0.163400</td>\n",
              "      <td>0.345400</td>\n",
              "      <td>0.426800</td>\n",
              "      <td>0.201200</td>\n",
              "      <td>0.304000</td>\n",
              "      <td>0.097440</td>\n",
              "      <td>2.873000</td>\n",
              "      <td>4.885000</td>\n",
              "      <td>21.980000</td>\n",
              "      <td>542.200000</td>\n",
              "      <td>0.031130</td>\n",
              "      <td>0.135400</td>\n",
              "      <td>0.396000</td>\n",
              "      <td>0.052790</td>\n",
              "      <td>0.078950</td>\n",
              "      <td>0.029840</td>\n",
              "      <td>36.040000</td>\n",
              "      <td>49.540000</td>\n",
              "      <td>251.200000</td>\n",
              "      <td>4254.000000</td>\n",
              "      <td>0.222600</td>\n",
              "      <td>1.058000</td>\n",
              "      <td>1.252000</td>\n",
              "      <td>0.291000</td>\n",
              "      <td>0.663800</td>\n",
              "      <td>0.207500</td>\n",
              "    </tr>\n",
              "  </tbody>\n",
              "</table>\n",
              "</div>\n",
              "      <button class=\"colab-df-convert\" onclick=\"convertToInteractive('df-bf35085f-dd46-442e-8a3e-046c8e4b7db2')\"\n",
              "              title=\"Convert this dataframe to an interactive table.\"\n",
              "              style=\"display:none;\">\n",
              "        \n",
              "  <svg xmlns=\"http://www.w3.org/2000/svg\" height=\"24px\"viewBox=\"0 0 24 24\"\n",
              "       width=\"24px\">\n",
              "    <path d=\"M0 0h24v24H0V0z\" fill=\"none\"/>\n",
              "    <path d=\"M18.56 5.44l.94 2.06.94-2.06 2.06-.94-2.06-.94-.94-2.06-.94 2.06-2.06.94zm-11 1L8.5 8.5l.94-2.06 2.06-.94-2.06-.94L8.5 2.5l-.94 2.06-2.06.94zm10 10l.94 2.06.94-2.06 2.06-.94-2.06-.94-.94-2.06-.94 2.06-2.06.94z\"/><path d=\"M17.41 7.96l-1.37-1.37c-.4-.4-.92-.59-1.43-.59-.52 0-1.04.2-1.43.59L10.3 9.45l-7.72 7.72c-.78.78-.78 2.05 0 2.83L4 21.41c.39.39.9.59 1.41.59.51 0 1.02-.2 1.41-.59l7.78-7.78 2.81-2.81c.8-.78.8-2.07 0-2.86zM5.41 20L4 18.59l7.72-7.72 1.47 1.35L5.41 20z\"/>\n",
              "  </svg>\n",
              "      </button>\n",
              "      \n",
              "  <style>\n",
              "    .colab-df-container {\n",
              "      display:flex;\n",
              "      flex-wrap:wrap;\n",
              "      gap: 12px;\n",
              "    }\n",
              "\n",
              "    .colab-df-convert {\n",
              "      background-color: #E8F0FE;\n",
              "      border: none;\n",
              "      border-radius: 50%;\n",
              "      cursor: pointer;\n",
              "      display: none;\n",
              "      fill: #1967D2;\n",
              "      height: 32px;\n",
              "      padding: 0 0 0 0;\n",
              "      width: 32px;\n",
              "    }\n",
              "\n",
              "    .colab-df-convert:hover {\n",
              "      background-color: #E2EBFA;\n",
              "      box-shadow: 0px 1px 2px rgba(60, 64, 67, 0.3), 0px 1px 3px 1px rgba(60, 64, 67, 0.15);\n",
              "      fill: #174EA6;\n",
              "    }\n",
              "\n",
              "    [theme=dark] .colab-df-convert {\n",
              "      background-color: #3B4455;\n",
              "      fill: #D2E3FC;\n",
              "    }\n",
              "\n",
              "    [theme=dark] .colab-df-convert:hover {\n",
              "      background-color: #434B5C;\n",
              "      box-shadow: 0px 1px 3px 1px rgba(0, 0, 0, 0.15);\n",
              "      filter: drop-shadow(0px 1px 2px rgba(0, 0, 0, 0.3));\n",
              "      fill: #FFFFFF;\n",
              "    }\n",
              "  </style>\n",
              "\n",
              "      <script>\n",
              "        const buttonEl =\n",
              "          document.querySelector('#df-bf35085f-dd46-442e-8a3e-046c8e4b7db2 button.colab-df-convert');\n",
              "        buttonEl.style.display =\n",
              "          google.colab.kernel.accessAllowed ? 'block' : 'none';\n",
              "\n",
              "        async function convertToInteractive(key) {\n",
              "          const element = document.querySelector('#df-bf35085f-dd46-442e-8a3e-046c8e4b7db2');\n",
              "          const dataTable =\n",
              "            await google.colab.kernel.invokeFunction('convertToInteractive',\n",
              "                                                     [key], {});\n",
              "          if (!dataTable) return;\n",
              "\n",
              "          const docLinkHtml = 'Like what you see? Visit the ' +\n",
              "            '<a target=\"_blank\" href=https://colab.research.google.com/notebooks/data_table.ipynb>data table notebook</a>'\n",
              "            + ' to learn more about interactive tables.';\n",
              "          element.innerHTML = '';\n",
              "          dataTable['output_type'] = 'display_data';\n",
              "          await google.colab.output.renderOutput(dataTable, element);\n",
              "          const docLink = document.createElement('div');\n",
              "          docLink.innerHTML = docLinkHtml;\n",
              "          element.appendChild(docLink);\n",
              "        }\n",
              "      </script>\n",
              "    </div>\n",
              "  </div>\n",
              "  "
            ],
            "text/plain": [
              "                 id  radius_mean  ...  symmetry_worst  fractal_dimension_worst\n",
              "count  5.690000e+02   569.000000  ...      569.000000               569.000000\n",
              "mean   3.037183e+07    14.127292  ...        0.290076                 0.083946\n",
              "std    1.250206e+08     3.524049  ...        0.061867                 0.018061\n",
              "min    8.670000e+03     6.981000  ...        0.156500                 0.055040\n",
              "25%    8.692180e+05    11.700000  ...        0.250400                 0.071460\n",
              "50%    9.060240e+05    13.370000  ...        0.282200                 0.080040\n",
              "75%    8.813129e+06    15.780000  ...        0.317900                 0.092080\n",
              "max    9.113205e+08    28.110000  ...        0.663800                 0.207500\n",
              "\n",
              "[8 rows x 31 columns]"
            ]
          },
          "metadata": {},
          "execution_count": 2
        },
        {
          "output_type": "stream",
          "name": "stdout",
          "text": [
            "Warning: Total number of columns (31) exceeds max_columns (20) limiting to first (20) columns.\n"
          ]
        }
      ],
      "source": [
        "import pandas as pd\n",
        "import seaborn as sns\n",
        "import matplotlib.pyplot as plt\n",
        "from sklearn.model_selection import train_test_split\n",
        "data = pd.read_csv(\"breast-cancer.csv\")\n",
        "\n",
        "data.describe()"
      ]
    },
    {
      "cell_type": "code",
      "source": [
        "data[\"diagnosis\"]"
      ],
      "metadata": {
        "colab": {
          "base_uri": "https://localhost:8080/"
        },
        "id": "ImI06RYtXX48",
        "outputId": "c2790764-30c0-4c94-fd35-f4aafb00a2ae"
      },
      "execution_count": null,
      "outputs": [
        {
          "output_type": "execute_result",
          "data": {
            "text/plain": [
              "0      M\n",
              "1      M\n",
              "2      M\n",
              "3      M\n",
              "4      M\n",
              "      ..\n",
              "564    M\n",
              "565    M\n",
              "566    M\n",
              "567    M\n",
              "568    B\n",
              "Name: diagnosis, Length: 569, dtype: object"
            ]
          },
          "metadata": {},
          "execution_count": 2
        }
      ]
    },
    {
      "cell_type": "code",
      "source": [
        "data.info()"
      ],
      "metadata": {
        "colab": {
          "base_uri": "https://localhost:8080/"
        },
        "id": "O7IC72jvXgpf",
        "outputId": "372a6f2b-2615-40db-c09f-0bfdb84ac93b"
      },
      "execution_count": null,
      "outputs": [
        {
          "output_type": "stream",
          "name": "stdout",
          "text": [
            "<class 'pandas.core.frame.DataFrame'>\n",
            "RangeIndex: 569 entries, 0 to 568\n",
            "Data columns (total 32 columns):\n",
            " #   Column                   Non-Null Count  Dtype  \n",
            "---  ------                   --------------  -----  \n",
            " 0   id                       569 non-null    int64  \n",
            " 1   diagnosis                569 non-null    object \n",
            " 2   radius_mean              569 non-null    float64\n",
            " 3   texture_mean             569 non-null    float64\n",
            " 4   perimeter_mean           569 non-null    float64\n",
            " 5   area_mean                569 non-null    float64\n",
            " 6   smoothness_mean          569 non-null    float64\n",
            " 7   compactness_mean         569 non-null    float64\n",
            " 8   concavity_mean           569 non-null    float64\n",
            " 9   concave points_mean      569 non-null    float64\n",
            " 10  symmetry_mean            569 non-null    float64\n",
            " 11  fractal_dimension_mean   569 non-null    float64\n",
            " 12  radius_se                569 non-null    float64\n",
            " 13  texture_se               569 non-null    float64\n",
            " 14  perimeter_se             569 non-null    float64\n",
            " 15  area_se                  569 non-null    float64\n",
            " 16  smoothness_se            569 non-null    float64\n",
            " 17  compactness_se           569 non-null    float64\n",
            " 18  concavity_se             569 non-null    float64\n",
            " 19  concave points_se        569 non-null    float64\n",
            " 20  symmetry_se              569 non-null    float64\n",
            " 21  fractal_dimension_se     569 non-null    float64\n",
            " 22  radius_worst             569 non-null    float64\n",
            " 23  texture_worst            569 non-null    float64\n",
            " 24  perimeter_worst          569 non-null    float64\n",
            " 25  area_worst               569 non-null    float64\n",
            " 26  smoothness_worst         569 non-null    float64\n",
            " 27  compactness_worst        569 non-null    float64\n",
            " 28  concavity_worst          569 non-null    float64\n",
            " 29  concave points_worst     569 non-null    float64\n",
            " 30  symmetry_worst           569 non-null    float64\n",
            " 31  fractal_dimension_worst  569 non-null    float64\n",
            "dtypes: float64(30), int64(1), object(1)\n",
            "memory usage: 142.4+ KB\n"
          ]
        }
      ]
    },
    {
      "cell_type": "code",
      "source": [
        "# visualize the target variable\n",
        "g = sns.countplot(data['diagnosis'])\n",
        "g.set_xticklabels(['Y','N'])\n",
        "plt.show()"
      ],
      "metadata": {
        "colab": {
          "base_uri": "https://localhost:8080/",
          "height": 334
        },
        "id": "CMoLkCJ0dVNA",
        "outputId": "41e49554-daee-455b-b3dd-fc8241603cf8"
      },
      "execution_count": null,
      "outputs": [
        {
          "output_type": "stream",
          "name": "stderr",
          "text": [
            "/usr/local/lib/python3.7/dist-packages/seaborn/_decorators.py:43: FutureWarning: Pass the following variable as a keyword arg: x. From version 0.12, the only valid positional argument will be `data`, and passing other arguments without an explicit keyword will result in an error or misinterpretation.\n",
            "  FutureWarning\n"
          ]
        },
        {
          "output_type": "display_data",
          "data": {
            "image/png": "[encoded data removed]",
            "text/plain": [
              "<Figure size 432x288 with 1 Axes>"
            ]
          },
          "metadata": {
            "needs_background": "light"
          }
        }
      ]
    },
    {
      "cell_type": "code",
      "source": [
        "data[\"diagnosis\"].value_counts()"
      ],
      "metadata": {
        "colab": {
          "base_uri": "https://localhost:8080/"
        },
        "id": "KRQC1VRAfRS_",
        "outputId": "5b6bded9-80da-4b8e-a87c-f5c11ab65757"
      },
      "execution_count": null,
      "outputs": [
        {
          "output_type": "execute_result",
          "data": {
            "text/plain": [
              "0    357\n",
              "1    212\n",
              "Name: diagnosis, dtype: int64"
            ]
          },
          "metadata": {},
          "execution_count": 136
        }
      ]
    },
    {
      "cell_type": "code",
      "source": [
        "import matplotlib\n",
        "matplotlib.style.use('ggplot')\n",
        "data.hist(alpha=0.5, figsize=(16, 16))"
      ],
      "metadata": {
        "colab": {
          "base_uri": "https://localhost:8080/",
          "height": 1000
        },
        "id": "0MXSgRjnXq2-",
        "outputId": "168494ec-9c64-47e7-afbc-be98659ac6dd"
      },
      "execution_count": null,
      "outputs": [
        {
          "output_type": "execute_result",
          "data": {
            "text/plain": [
              "array([[<matplotlib.axes._subplots.AxesSubplot object at 0x7f7a96edc6d0>,\n",
              "        <matplotlib.axes._subplots.AxesSubplot object at 0x7f7a96e34c10>,\n",
              "        <matplotlib.axes._subplots.AxesSubplot object at 0x7f7a96dfa210>,\n",
              "        <matplotlib.axes._subplots.AxesSubplot object at 0x7f7a96dae810>,\n",
              "        <matplotlib.axes._subplots.AxesSubplot object at 0x7f7a96de5e10>,\n",
              "        <matplotlib.axes._subplots.AxesSubplot object at 0x7f7a96da8450>],\n",
              "       [<matplotlib.axes._subplots.AxesSubplot object at 0x7f7a96d5cad0>,\n",
              "        <matplotlib.axes._subplots.AxesSubplot object at 0x7f7a96d09b90>,\n",
              "        <matplotlib.axes._subplots.AxesSubplot object at 0x7f7a96d1f090>,\n",
              "        <matplotlib.axes._subplots.AxesSubplot object at 0x7f7a96cd5790>,\n",
              "        <matplotlib.axes._subplots.AxesSubplot object at 0x7f7a96c4d2d0>,\n",
              "        <matplotlib.axes._subplots.AxesSubplot object at 0x7f7a96c048d0>],\n",
              "       [<matplotlib.axes._subplots.AxesSubplot object at 0x7f7a96bb9ed0>,\n",
              "        <matplotlib.axes._subplots.AxesSubplot object at 0x7f7a96b7a510>,\n",
              "        <matplotlib.axes._subplots.AxesSubplot object at 0x7f7a96b31b10>,\n",
              "        <matplotlib.axes._subplots.AxesSubplot object at 0x7f7a96af5150>,\n",
              "        <matplotlib.axes._subplots.AxesSubplot object at 0x7f7a96b28750>,\n",
              "        <matplotlib.axes._subplots.AxesSubplot object at 0x7f7a96adfd50>],\n",
              "       [<matplotlib.axes._subplots.AxesSubplot object at 0x7f7a96aa2390>,\n",
              "        <matplotlib.axes._subplots.AxesSubplot object at 0x7f7a96a58990>,\n",
              "        <matplotlib.axes._subplots.AxesSubplot object at 0x7f7a96a0df90>,\n",
              "        <matplotlib.axes._subplots.AxesSubplot object at 0x7f7a969d05d0>,\n",
              "        <matplotlib.axes._subplots.AxesSubplot object at 0x7f7a96983bd0>,\n",
              "        <matplotlib.axes._subplots.AxesSubplot object at 0x7f7a96945210>],\n",
              "       [<matplotlib.axes._subplots.AxesSubplot object at 0x7f7a968fd810>,\n",
              "        <matplotlib.axes._subplots.AxesSubplot object at 0x7f7a968b5e10>,\n",
              "        <matplotlib.axes._subplots.AxesSubplot object at 0x7f7a96874450>,\n",
              "        <matplotlib.axes._subplots.AxesSubplot object at 0x7f7a968aaa50>,\n",
              "        <matplotlib.axes._subplots.AxesSubplot object at 0x7f7a96856b90>,\n",
              "        <matplotlib.axes._subplots.AxesSubplot object at 0x7f7a96823690>],\n",
              "       [<matplotlib.axes._subplots.AxesSubplot object at 0x7f7a967dc810>,\n",
              "        <matplotlib.axes._subplots.AxesSubplot object at 0x7f7a96793d10>,\n",
              "        <matplotlib.axes._subplots.AxesSubplot object at 0x7f7a96756250>,\n",
              "        <matplotlib.axes._subplots.AxesSubplot object at 0x7f7a9670a750>,\n",
              "        <matplotlib.axes._subplots.AxesSubplot object at 0x7f7a966bfc50>,\n",
              "        <matplotlib.axes._subplots.AxesSubplot object at 0x7f7a96682190>]],\n",
              "      dtype=object)"
            ]
          },
          "metadata": {},
          "execution_count": 4
        },
        {
          "output_type": "display_data",
          "data": {
            "image/png": "[encoded data removed]",
            "text/plain": [
              "<Figure size 1152x1152 with 36 Axes>"
            ]
          },
          "metadata": {}
        }
      ]
    },
    {
      "cell_type": "code",
      "source": [
        "from sklearn.preprocessing import StandardScaler  \n",
        "from sklearn.preprocessing import LabelEncoder\n",
        "labelencoder= LabelEncoder()  \n",
        "standardscaler= StandardScaler()  \n",
        "data[\"diagnosis\"]=labelencoder.fit_transform(data[\"diagnosis\"])\n",
        "#data_scaled= st_x.fit_transform(data)  \n",
        "#x_test= st_x.transform(x_test)  "
      ],
      "metadata": {
        "id": "l0j3UvAjd-jR"
      },
      "execution_count": null,
      "outputs": []
    },
    {
      "cell_type": "code",
      "source": [
        "X=data.drop(['id','diagnosis'],axis=1)\n",
        "X= standardscaler.fit(X)  \n",
        "X_scaled= standardscaler.transform(X)\n",
        "y=data[\"diagnosis\"]\n",
        "X_train,X_val,y_train,y_val = train_test_split(X_scaled,y, stratify=y,test_size=0.33, random_state=42)"
      ],
      "metadata": {
        "id": "yhy0Njx0X0_f"
      },
      "execution_count": null,
      "outputs": []
    },
    {
      "cell_type": "code",
      "source": [
        "y"
      ],
      "metadata": {
        "colab": {
          "base_uri": "https://localhost:8080/"
        },
        "id": "GXVLXoXMc_Jl",
        "outputId": "1887790b-1557-4f66-ad81-16f457fe13d4"
      },
      "execution_count": null,
      "outputs": [
        {
          "output_type": "execute_result",
          "data": {
            "text/plain": [
              "0      1\n",
              "1      1\n",
              "2      1\n",
              "3      1\n",
              "4      1\n",
              "      ..\n",
              "564    1\n",
              "565    1\n",
              "566    1\n",
              "567    1\n",
              "568    0\n",
              "Name: diagnosis, Length: 569, dtype: int64"
            ]
          },
          "metadata": {},
          "execution_count": 41
        }
      ]
    },
    {
      "cell_type": "code",
      "source": [
        "from sklearn.model_selection import train_test_split\n",
        "# logistic regression for feature importance\n",
        "from sklearn.datasets import make_classification\n",
        "from sklearn.linear_model import LogisticRegression\n",
        "from matplotlib import pyplot\n",
        "\n",
        "# define the model\n",
        "model_lr = LogisticRegression()\n",
        "# fit the model\n",
        "model_lr.fit(X_train, y_train)\n",
        "# get importance\n",
        "importance = model_lr.coef_[0]\n",
        "# summarize feature importance\n",
        "for i,v in enumerate(importance):\n",
        "\tprint('Feature: %0d, Score: %.5f' % (i,v))\n",
        "# plot feature importance\n",
        "pyplot.bar([x for x in range(len(importance))], importance)\n",
        "pyplot.show()"
      ],
      "metadata": {
        "colab": {
          "base_uri": "https://localhost:8080/",
          "height": 786
        },
        "id": "Z0m26CciZwkT",
        "outputId": "cb10e169-cdd5-47aa-d4ac-ff6c49622521"
      },
      "execution_count": null,
      "outputs": [
        {
          "output_type": "stream",
          "name": "stdout",
          "text": [
            "Feature: 0, Score: 0.28276\n",
            "Feature: 1, Score: 0.65893\n",
            "Feature: 2, Score: 0.28832\n",
            "Feature: 3, Score: 0.40821\n",
            "Feature: 4, Score: 0.27811\n",
            "Feature: 5, Score: -0.46693\n",
            "Feature: 6, Score: 0.78219\n",
            "Feature: 7, Score: 0.88696\n",
            "Feature: 8, Score: -0.25184\n",
            "Feature: 9, Score: -0.07894\n",
            "Feature: 10, Score: 1.15741\n",
            "Feature: 11, Score: -0.29403\n",
            "Feature: 12, Score: 0.85577\n",
            "Feature: 13, Score: 0.89489\n",
            "Feature: 14, Score: 0.26886\n",
            "Feature: 15, Score: -0.91114\n",
            "Feature: 16, Score: -0.11575\n",
            "Feature: 17, Score: 0.43175\n",
            "Feature: 18, Score: -0.31824\n",
            "Feature: 19, Score: -0.51488\n",
            "Feature: 20, Score: 0.76959\n",
            "Feature: 21, Score: 1.16427\n",
            "Feature: 22, Score: 0.66592\n",
            "Feature: 23, Score: 0.82449\n",
            "Feature: 24, Score: 0.45884\n",
            "Feature: 25, Score: -0.25115\n",
            "Feature: 26, Score: 0.82333\n",
            "Feature: 27, Score: 0.77968\n",
            "Feature: 28, Score: 1.04997\n",
            "Feature: 29, Score: 0.13251\n"
          ]
        },
        {
          "output_type": "display_data",
          "data": {
            "image/png": "[encoded data removed]",
            "text/plain": [
              "<Figure size 432x288 with 1 Axes>"
            ]
          },
          "metadata": {
            "needs_background": "light"
          }
        }
      ]
    },
    {
      "cell_type": "code",
      "source": [
        "from sklearn.metrics import classification_report\n",
        "from sklearn.metrics import accuracy_score\n",
        "accuracy_score(y_val, model_lr.predict(X_val))\n",
        "print(classification_report(y_val, model_lr.predict(X_val)))"
      ],
      "metadata": {
        "colab": {
          "base_uri": "https://localhost:8080/"
        },
        "id": "ydyAeci-Z6nG",
        "outputId": "054ade5a-bd16-4564-f32a-50f648dafacb"
      },
      "execution_count": null,
      "outputs": [
        {
          "output_type": "stream",
          "name": "stdout",
          "text": [
            "              precision    recall  f1-score   support\n",
            "\n",
            "           0       0.95      0.99      0.97       118\n",
            "           1       0.98      0.91      0.95        70\n",
            "\n",
            "    accuracy                           0.96       188\n",
            "   macro avg       0.97      0.95      0.96       188\n",
            "weighted avg       0.96      0.96      0.96       188\n",
            "\n"
          ]
        }
      ]
    },
    {
      "cell_type": "code",
      "source": [
        "from sklearn.datasets import make_classification\n",
        "from sklearn.tree import DecisionTreeClassifier\n",
        "from matplotlib import pyplot\n",
        "\n",
        "# define the model\n",
        "model_dt = DecisionTreeClassifier()\n",
        "# fit the model\n",
        "model_dt.fit(X_train, y_train)\n",
        "# get importance\n",
        "importance = model_dt.feature_importances_\n",
        "# summarize feature importance\n",
        "for i,v in enumerate(importance):\n",
        "\tprint('Feature: %0d, Score: %.5f' % (i,v))\n",
        "# plot feature importance\n",
        "pyplot.bar([x for x in range(len(importance))], importance)\n",
        "pyplot.show()"
      ],
      "metadata": {
        "colab": {
          "base_uri": "https://localhost:8080/",
          "height": 786
        },
        "id": "4PFU14Q5Z_zQ",
        "outputId": "6e835dcf-89f2-4ac3-b16f-8a90d08bbaef"
      },
      "execution_count": null,
      "outputs": [
        {
          "output_type": "stream",
          "name": "stdout",
          "text": [
            "Feature: 0, Score: 0.00000\n",
            "Feature: 1, Score: 0.01946\n",
            "Feature: 2, Score: 0.00000\n",
            "Feature: 3, Score: 0.01787\n",
            "Feature: 4, Score: 0.00000\n",
            "Feature: 5, Score: 0.00000\n",
            "Feature: 6, Score: 0.00000\n",
            "Feature: 7, Score: 0.00000\n",
            "Feature: 8, Score: 0.00000\n",
            "Feature: 9, Score: 0.00000\n",
            "Feature: 10, Score: 0.00000\n",
            "Feature: 11, Score: 0.00000\n",
            "Feature: 12, Score: 0.00000\n",
            "Feature: 13, Score: 0.00247\n",
            "Feature: 14, Score: 0.00155\n",
            "Feature: 15, Score: 0.01036\n",
            "Feature: 16, Score: 0.00000\n",
            "Feature: 17, Score: 0.00000\n",
            "Feature: 18, Score: 0.02449\n",
            "Feature: 19, Score: 0.00962\n",
            "Feature: 20, Score: 0.00000\n",
            "Feature: 21, Score: 0.01009\n",
            "Feature: 22, Score: 0.74668\n",
            "Feature: 23, Score: 0.00000\n",
            "Feature: 24, Score: 0.01079\n",
            "Feature: 25, Score: 0.00842\n",
            "Feature: 26, Score: 0.00000\n",
            "Feature: 27, Score: 0.12435\n",
            "Feature: 28, Score: 0.01384\n",
            "Feature: 29, Score: 0.00000\n"
          ]
        },
        {
          "output_type": "display_data",
          "data": {
            "image/png": "[encoded data removed]",
            "text/plain": [
              "<Figure size 432x288 with 1 Axes>"
            ]
          },
          "metadata": {
            "needs_background": "light"
          }
        }
      ]
    },
    {
      "cell_type": "code",
      "source": [
        "accuracy_score(y_val, model_dt.predict(X_val))\n",
        "print(classification_report(y_val, model_dt.predict(X_val)))"
      ],
      "metadata": {
        "colab": {
          "base_uri": "https://localhost:8080/"
        },
        "id": "a0qZiiQRaDLh",
        "outputId": "575f2d0e-0435-4066-d442-9dd66c989bae"
      },
      "execution_count": null,
      "outputs": [
        {
          "output_type": "stream",
          "name": "stdout",
          "text": [
            "              precision    recall  f1-score   support\n",
            "\n",
            "           0       0.88      0.95      0.91       118\n",
            "           1       0.90      0.79      0.84        70\n",
            "\n",
            "    accuracy                           0.89       188\n",
            "   macro avg       0.89      0.87      0.88       188\n",
            "weighted avg       0.89      0.89      0.89       188\n",
            "\n"
          ]
        }
      ]
    },
    {
      "cell_type": "code",
      "source": [
        "from sklearn.datasets import make_classification\n",
        "from sklearn.ensemble import RandomForestClassifier\n",
        "from matplotlib import pyplot\n",
        "\n",
        "# define the model\n",
        "model_rf = RandomForestClassifier()\n",
        "# fit the model\n",
        "model_rf.fit(X_train, y_train)\n",
        "# get importance\n",
        "importance = model_rf.feature_importances_\n",
        "# summarize feature importance\n",
        "for i,v in enumerate(importance):\n",
        "\tprint('Feature: %0d, Score: %.5f' % (i,v))\n",
        "# plot feature importance\n",
        "pyplot.bar([x for x in range(len(importance))], importance)\n",
        "pyplot.show()"
      ],
      "metadata": {
        "colab": {
          "base_uri": "https://localhost:8080/",
          "height": 786
        },
        "id": "9Hw4fm0GaD1W",
        "outputId": "0173be13-5c1c-4315-e9ca-35e65e2d5e3c"
      },
      "execution_count": null,
      "outputs": [
        {
          "output_type": "stream",
          "name": "stdout",
          "text": [
            "Feature: 0, Score: 0.05866\n",
            "Feature: 1, Score: 0.01227\n",
            "Feature: 2, Score: 0.05065\n",
            "Feature: 3, Score: 0.05302\n",
            "Feature: 4, Score: 0.00700\n",
            "Feature: 5, Score: 0.01281\n",
            "Feature: 6, Score: 0.04885\n",
            "Feature: 7, Score: 0.10642\n",
            "Feature: 8, Score: 0.00275\n",
            "Feature: 9, Score: 0.00269\n",
            "Feature: 10, Score: 0.01239\n",
            "Feature: 11, Score: 0.00322\n",
            "Feature: 12, Score: 0.01238\n",
            "Feature: 13, Score: 0.02617\n",
            "Feature: 14, Score: 0.00369\n",
            "Feature: 15, Score: 0.00554\n",
            "Feature: 16, Score: 0.00245\n",
            "Feature: 17, Score: 0.00320\n",
            "Feature: 18, Score: 0.00441\n",
            "Feature: 19, Score: 0.00710\n",
            "Feature: 20, Score: 0.10063\n",
            "Feature: 21, Score: 0.01749\n",
            "Feature: 22, Score: 0.16194\n",
            "Feature: 23, Score: 0.10995\n",
            "Feature: 24, Score: 0.01264\n",
            "Feature: 25, Score: 0.01255\n",
            "Feature: 26, Score: 0.03498\n",
            "Feature: 27, Score: 0.08950\n",
            "Feature: 28, Score: 0.01740\n",
            "Feature: 29, Score: 0.00727\n"
          ]
        },
        {
          "output_type": "display_data",
          "data": {
            "image/png": "[encoded data removed]",
            "text/plain": [
              "<Figure size 432x288 with 1 Axes>"
            ]
          },
          "metadata": {
            "needs_background": "light"
          }
        }
      ]
    },
    {
      "cell_type": "code",
      "source": [
        "accuracy_score(y_val, model_rf.predict(X_val))\n",
        "print(classification_report(y_val, model_rf.predict(X_val)))"
      ],
      "metadata": {
        "colab": {
          "base_uri": "https://localhost:8080/"
        },
        "id": "n_oL-1D2aI4W",
        "outputId": "9bc8e4f3-b0b5-4262-d13d-b800f21fad8e"
      },
      "execution_count": null,
      "outputs": [
        {
          "output_type": "stream",
          "name": "stdout",
          "text": [
            "              precision    recall  f1-score   support\n",
            "\n",
            "           0       0.94      1.00      0.97       118\n",
            "           1       1.00      0.89      0.94        70\n",
            "\n",
            "    accuracy                           0.96       188\n",
            "   macro avg       0.97      0.94      0.95       188\n",
            "weighted avg       0.96      0.96      0.96       188\n",
            "\n"
          ]
        }
      ]
    },
    {
      "cell_type": "code",
      "source": [
        "from sklearn.datasets import make_classification\n",
        "from xgboost import XGBClassifier\n",
        "from matplotlib import pyplot\n",
        "\n",
        "# define the model\n",
        "model_xgb = XGBClassifier()\n",
        "# fit the model\n",
        "model_xgb.fit(X_train, y_train)\n",
        "# get importance\n",
        "importance = model_xgb.feature_importances_\n",
        "# summarize feature importance\n",
        "for i,v in enumerate(importance):\n",
        "\tprint('Feature: %0d, Score: %.5f' % (i,v))\n",
        "# plot feature importance\n",
        "pyplot.bar([x for x in range(len(importance))], importance)\n",
        "pyplot.show()"
      ],
      "metadata": {
        "colab": {
          "base_uri": "https://localhost:8080/",
          "height": 786
        },
        "id": "H2slDCZWaJhk",
        "outputId": "9467d122-755f-43a8-b673-d49925339085"
      },
      "execution_count": null,
      "outputs": [
        {
          "output_type": "stream",
          "name": "stdout",
          "text": [
            "Feature: 0, Score: 0.02485\n",
            "Feature: 1, Score: 0.02076\n",
            "Feature: 2, Score: 0.00000\n",
            "Feature: 3, Score: 0.03929\n",
            "Feature: 4, Score: 0.00660\n",
            "Feature: 5, Score: 0.00522\n",
            "Feature: 6, Score: 0.00072\n",
            "Feature: 7, Score: 0.16433\n",
            "Feature: 8, Score: 0.00673\n",
            "Feature: 9, Score: 0.00474\n",
            "Feature: 10, Score: 0.01578\n",
            "Feature: 11, Score: 0.00000\n",
            "Feature: 12, Score: 0.02176\n",
            "Feature: 13, Score: 0.01085\n",
            "Feature: 14, Score: 0.01952\n",
            "Feature: 15, Score: 0.01668\n",
            "Feature: 16, Score: 0.02377\n",
            "Feature: 17, Score: 0.00284\n",
            "Feature: 18, Score: 0.00609\n",
            "Feature: 19, Score: 0.00748\n",
            "Feature: 20, Score: 0.11244\n",
            "Feature: 21, Score: 0.02152\n",
            "Feature: 22, Score: 0.31064\n",
            "Feature: 23, Score: 0.01529\n",
            "Feature: 24, Score: 0.02067\n",
            "Feature: 25, Score: 0.00629\n",
            "Feature: 26, Score: 0.03397\n",
            "Feature: 27, Score: 0.07580\n",
            "Feature: 28, Score: 0.00538\n",
            "Feature: 29, Score: 0.00000\n"
          ]
        },
        {
          "output_type": "display_data",
          "data": {
            "image/png": "[encoded data removed]",
            "text/plain": [
              "<Figure size 432x288 with 1 Axes>"
            ]
          },
          "metadata": {
            "needs_background": "light"
          }
        }
      ]
    },
    {
      "cell_type": "code",
      "source": [
        "accuracy_score(y_val, model_xgb.predict(X_val))\n",
        "print(classification_report(y_val, model_xgb.predict(X_val)))"
      ],
      "metadata": {
        "colab": {
          "base_uri": "https://localhost:8080/"
        },
        "id": "xwp3eeHIaOL1",
        "outputId": "d380d9a1-222d-42ba-f98b-b8b993a974e7"
      },
      "execution_count": null,
      "outputs": [
        {
          "output_type": "stream",
          "name": "stdout",
          "text": [
            "              precision    recall  f1-score   support\n",
            "\n",
            "           0       0.94      1.00      0.97       118\n",
            "           1       1.00      0.90      0.95        70\n",
            "\n",
            "    accuracy                           0.96       188\n",
            "   macro avg       0.97      0.95      0.96       188\n",
            "weighted avg       0.96      0.96      0.96       188\n",
            "\n"
          ]
        }
      ]
    },
    {
      "cell_type": "code",
      "source": [
        "!pip install auto-sklearn"
      ],
      "metadata": {
        "colab": {
          "base_uri": "https://localhost:8080/",
          "height": 1000
        },
        "id": "JmQ1NAGpWmbu",
        "outputId": "16b7f058-f293-4752-f153-3c923387c89f"
      },
      "execution_count": null,
      "outputs": [
        {
          "output_type": "stream",
          "name": "stdout",
          "text": [
            "Collecting auto-sklearn\n",
            "  Downloading auto-sklearn-0.14.3.tar.gz (6.3 MB)\n",
            "\u001b[K     |████████████████████████████████| 6.3 MB 8.3 MB/s \n",
            "\u001b[?25hRequirement already satisfied: setuptools in /usr/local/lib/python3.7/dist-packages (from auto-sklearn) (57.4.0)\n",
            "Requirement already satisfied: typing_extensions in /usr/local/lib/python3.7/dist-packages (from auto-sklearn) (3.10.0.2)\n",
            "Requirement already satisfied: numpy>=1.9.0 in /usr/local/lib/python3.7/dist-packages (from auto-sklearn) (1.19.5)\n",
            "Collecting scipy>=1.7.0\n",
            "  Downloading scipy-1.7.3-cp37-cp37m-manylinux_2_12_x86_64.manylinux2010_x86_64.whl (38.1 MB)\n",
            "\u001b[K     |████████████████████████████████| 38.1 MB 344 kB/s \n",
            "\u001b[?25hRequirement already satisfied: joblib in /usr/local/lib/python3.7/dist-packages (from auto-sklearn) (1.1.0)\n",
            "Collecting scikit-learn<0.25.0,>=0.24.0\n",
            "  Downloading scikit_learn-0.24.2-cp37-cp37m-manylinux2010_x86_64.whl (22.3 MB)\n",
            "\u001b[K     |████████████████████████████████| 22.3 MB 1.3 MB/s \n",
            "\u001b[?25hCollecting dask>=2021.12\n",
            "  Downloading dask-2021.12.0-py3-none-any.whl (1.0 MB)\n",
            "\u001b[K     |████████████████████████████████| 1.0 MB 61.4 MB/s \n",
            "\u001b[?25hCollecting distributed>=2012.12\n",
            "  Downloading distributed-2021.12.0-py3-none-any.whl (802 kB)\n",
            "\u001b[K     |████████████████████████████████| 802 kB 55.9 MB/s \n",
            "\u001b[?25hRequirement already satisfied: pyyaml in /usr/local/lib/python3.7/dist-packages (from auto-sklearn) (3.13)\n",
            "Requirement already satisfied: pandas>=1.0 in /usr/local/lib/python3.7/dist-packages (from auto-sklearn) (1.1.5)\n",
            "Collecting liac-arff\n",
            "  Downloading liac-arff-2.5.0.tar.gz (13 kB)\n",
            "Requirement already satisfied: threadpoolctl in /usr/local/lib/python3.7/dist-packages (from auto-sklearn) (3.0.0)\n",
            "Collecting ConfigSpace<0.5,>=0.4.14\n",
            "  Downloading ConfigSpace-0.4.20-cp37-cp37m-manylinux_2_17_x86_64.manylinux2014_x86_64.whl (4.2 MB)\n",
            "\u001b[K     |████████████████████████████████| 4.2 MB 48.4 MB/s \n",
            "\u001b[?25hCollecting pynisher>=0.6.3\n",
            "  Downloading pynisher-0.6.4.tar.gz (11 kB)\n",
            "Collecting pyrfr<0.9,>=0.8.1\n",
            "  Downloading pyrfr-0.8.2-cp37-cp37m-manylinux2014_x86_64.whl (4.0 MB)\n",
            "\u001b[K     |████████████████████████████████| 4.0 MB 45.7 MB/s \n",
            "\u001b[?25hCollecting smac>=0.14\n",
            "  Downloading smac-1.1.1-py3-none-any.whl (208 kB)\n",
            "\u001b[K     |████████████████████████████████| 208 kB 61.8 MB/s \n",
            "\u001b[?25hRequirement already satisfied: cython in /usr/local/lib/python3.7/dist-packages (from ConfigSpace<0.5,>=0.4.14->auto-sklearn) (0.29.26)\n",
            "Requirement already satisfied: pyparsing in /usr/local/lib/python3.7/dist-packages (from ConfigSpace<0.5,>=0.4.14->auto-sklearn) (3.0.6)\n",
            "Requirement already satisfied: packaging>=20.0 in /usr/local/lib/python3.7/dist-packages (from dask>=2021.12->auto-sklearn) (21.3)\n",
            "Requirement already satisfied: cloudpickle>=1.1.1 in /usr/local/lib/python3.7/dist-packages (from dask>=2021.12->auto-sklearn) (1.3.0)\n",
            "Collecting partd>=0.3.10\n",
            "  Downloading partd-1.2.0-py3-none-any.whl (19 kB)\n",
            "Collecting fsspec>=0.6.0\n",
            "  Downloading fsspec-2022.1.0-py3-none-any.whl (133 kB)\n",
            "\u001b[K     |████████████████████████████████| 133 kB 47.6 MB/s \n",
            "\u001b[?25hRequirement already satisfied: toolz>=0.8.2 in /usr/local/lib/python3.7/dist-packages (from dask>=2021.12->auto-sklearn) (0.11.2)\n",
            "Requirement already satisfied: msgpack>=0.6.0 in /usr/local/lib/python3.7/dist-packages (from distributed>=2012.12->auto-sklearn) (1.0.3)\n",
            "Requirement already satisfied: psutil>=5.0 in /usr/local/lib/python3.7/dist-packages (from distributed>=2012.12->auto-sklearn) (5.4.8)\n",
            "Collecting cloudpickle>=1.1.1\n",
            "  Downloading cloudpickle-2.0.0-py3-none-any.whl (25 kB)\n",
            "Requirement already satisfied: zict>=0.1.3 in /usr/local/lib/python3.7/dist-packages (from distributed>=2012.12->auto-sklearn) (2.0.0)\n",
            "Requirement already satisfied: jinja2 in /usr/local/lib/python3.7/dist-packages (from distributed>=2012.12->auto-sklearn) (2.11.3)\n",
            "Requirement already satisfied: tblib>=1.6.0 in /usr/local/lib/python3.7/dist-packages (from distributed>=2012.12->auto-sklearn) (1.7.0)\n",
            "Requirement already satisfied: sortedcontainers!=2.0.0,!=2.0.1 in /usr/local/lib/python3.7/dist-packages (from distributed>=2012.12->auto-sklearn) (2.4.0)\n",
            "Requirement already satisfied: click>=6.6 in /usr/local/lib/python3.7/dist-packages (from distributed>=2012.12->auto-sklearn) (7.1.2)\n",
            "Requirement already satisfied: tornado>=5 in /usr/local/lib/python3.7/dist-packages (from distributed>=2012.12->auto-sklearn) (5.1.1)\n",
            "Requirement already satisfied: pytz>=2017.2 in /usr/local/lib/python3.7/dist-packages (from pandas>=1.0->auto-sklearn) (2018.9)\n",
            "Requirement already satisfied: python-dateutil>=2.7.3 in /usr/local/lib/python3.7/dist-packages (from pandas>=1.0->auto-sklearn) (2.8.2)\n",
            "Collecting locket\n",
            "  Downloading locket-0.2.1-py2.py3-none-any.whl (4.1 kB)\n",
            "Requirement already satisfied: six>=1.5 in /usr/local/lib/python3.7/dist-packages (from python-dateutil>=2.7.3->pandas>=1.0->auto-sklearn) (1.15.0)\n",
            "Collecting emcee>=3.0.0\n",
            "  Downloading emcee-3.1.1-py2.py3-none-any.whl (45 kB)\n",
            "\u001b[K     |████████████████████████████████| 45 kB 3.5 MB/s \n",
            "\u001b[?25hRequirement already satisfied: heapdict in /usr/local/lib/python3.7/dist-packages (from zict>=0.1.3->distributed>=2012.12->auto-sklearn) (1.0.1)\n",
            "Requirement already satisfied: MarkupSafe>=0.23 in /usr/local/lib/python3.7/dist-packages (from jinja2->distributed>=2012.12->auto-sklearn) (2.0.1)\n",
            "Building wheels for collected packages: auto-sklearn, pynisher, liac-arff\n",
            "  Building wheel for auto-sklearn (setup.py) ... \u001b[?25l\u001b[?25hdone\n",
            "  Created wheel for auto-sklearn: filename=auto_sklearn-0.14.3-py3-none-any.whl size=6586730 sha256=af88fc1975dd415e772412521085ea7d5d7e4d2a706a7c04e615aff05d01220c\n",
            "  Stored in directory: /root/.cache/pip/wheels/28/df/95/a197368c9745885b878f69ae3d6aec0941ccc28e5e1ce585d4\n",
            "  Building wheel for pynisher (setup.py) ... \u001b[?25l\u001b[?25hdone\n",
            "  Created wheel for pynisher: filename=pynisher-0.6.4-py3-none-any.whl size=7043 sha256=171810e6162e316d8c706f4ac597c91aeb3eee9d7dd83b432caac940227b7044\n",
            "  Stored in directory: /root/.cache/pip/wheels/42/71/95/7555ec3253e1ba8add72ae5febf1b015d297f3b73ba296d6f6\n",
            "  Building wheel for liac-arff (setup.py) ... \u001b[?25l\u001b[?25hdone\n",
            "  Created wheel for liac-arff: filename=liac_arff-2.5.0-py3-none-any.whl size=11732 sha256=b2085ac927e3d36207245a11336649aba0728106677ea776959661578eddaa82\n",
            "  Stored in directory: /root/.cache/pip/wheels/1f/0f/15/332ca86cbebf25ddf98518caaf887945fbe1712b97a0f2493b\n",
            "Successfully built auto-sklearn pynisher liac-arff\n",
            "Installing collected packages: locket, partd, fsspec, cloudpickle, scipy, dask, scikit-learn, pyrfr, pynisher, emcee, distributed, ConfigSpace, smac, liac-arff, auto-sklearn\n",
            "  Attempting uninstall: cloudpickle\n",
            "    Found existing installation: cloudpickle 1.3.0\n",
            "    Uninstalling cloudpickle-1.3.0:\n",
            "      Successfully uninstalled cloudpickle-1.3.0\n",
            "  Attempting uninstall: scipy\n",
            "    Found existing installation: scipy 1.4.1\n",
            "    Uninstalling scipy-1.4.1:\n",
            "      Successfully uninstalled scipy-1.4.1\n",
            "  Attempting uninstall: dask\n",
            "    Found existing installation: dask 2.12.0\n",
            "    Uninstalling dask-2.12.0:\n",
            "      Successfully uninstalled dask-2.12.0\n",
            "  Attempting uninstall: scikit-learn\n",
            "    Found existing installation: scikit-learn 1.0.2\n",
            "    Uninstalling scikit-learn-1.0.2:\n",
            "      Successfully uninstalled scikit-learn-1.0.2\n",
            "  Attempting uninstall: distributed\n",
            "    Found existing installation: distributed 1.25.3\n",
            "    Uninstalling distributed-1.25.3:\n",
            "      Successfully uninstalled distributed-1.25.3\n",
            "\u001b[31mERROR: pip's dependency resolver does not currently take into account all the packages that are installed. This behaviour is the source of the following dependency conflicts.\n",
            "gym 0.17.3 requires cloudpickle<1.7.0,>=1.2.0, but you have cloudpickle 2.0.0 which is incompatible.\n",
            "albumentations 0.1.12 requires imgaug<0.2.7,>=0.2.5, but you have imgaug 0.2.9 which is incompatible.\u001b[0m\n",
            "Successfully installed ConfigSpace-0.4.20 auto-sklearn-0.14.3 cloudpickle-2.0.0 dask-2021.12.0 distributed-2021.12.0 emcee-3.1.1 fsspec-2022.1.0 liac-arff-2.5.0 locket-0.2.1 partd-1.2.0 pynisher-0.6.4 pyrfr-0.8.2 scikit-learn-0.24.2 scipy-1.7.3 smac-1.1.1\n"
          ]
        },
        {
          "output_type": "display_data",
          "data": {
            "application/vnd.colab-display-data+json": {
              "pip_warning": {
                "packages": [
                  "scipy",
                  "sklearn"
                ]
              }
            }
          },
          "metadata": {}
        }
      ]
    },
    {
      "cell_type": "code",
      "source": [
        "!pip install git+https://github.com/hyperopt/hyperopt-sklearn.git"
      ],
      "metadata": {
        "colab": {
          "base_uri": "https://localhost:8080/"
        },
        "id": "J6i79miNXK18",
        "outputId": "a615546a-165d-4abd-bad3-983ebd33b1bf"
      },
      "execution_count": null,
      "outputs": [
        {
          "output_type": "stream",
          "name": "stdout",
          "text": [
            "Collecting git+https://github.com/hyperopt/hyperopt-sklearn.git\n",
            "  Cloning https://github.com/hyperopt/hyperopt-sklearn.git to /tmp/pip-req-build-axsh2k11\n",
            "  Running command git clone -q https://github.com/hyperopt/hyperopt-sklearn.git /tmp/pip-req-build-axsh2k11\n",
            "Requirement already satisfied: hyperopt in /usr/local/lib/python3.7/dist-packages (from hpsklearn==0.0.3) (0.1.2)\n",
            "Collecting nose\n",
            "  Downloading nose-1.3.7-py3-none-any.whl (154 kB)\n",
            "\u001b[K     |████████████████████████████████| 154 kB 6.7 MB/s \n",
            "\u001b[?25hRequirement already satisfied: numpy in /usr/local/lib/python3.7/dist-packages (from hpsklearn==0.0.3) (1.19.5)\n",
            "Requirement already satisfied: scikit-learn in /usr/local/lib/python3.7/dist-packages (from hpsklearn==0.0.3) (0.24.2)\n",
            "Requirement already satisfied: scipy in /usr/local/lib/python3.7/dist-packages (from hpsklearn==0.0.3) (1.7.3)\n",
            "Requirement already satisfied: networkx in /usr/local/lib/python3.7/dist-packages (from hyperopt->hpsklearn==0.0.3) (2.6.3)\n",
            "Requirement already satisfied: tqdm in /usr/local/lib/python3.7/dist-packages (from hyperopt->hpsklearn==0.0.3) (4.62.3)\n",
            "Requirement already satisfied: pymongo in /usr/local/lib/python3.7/dist-packages (from hyperopt->hpsklearn==0.0.3) (4.0.1)\n",
            "Requirement already satisfied: future in /usr/local/lib/python3.7/dist-packages (from hyperopt->hpsklearn==0.0.3) (0.16.0)\n",
            "Requirement already satisfied: six in /usr/local/lib/python3.7/dist-packages (from hyperopt->hpsklearn==0.0.3) (1.15.0)\n",
            "Requirement already satisfied: joblib>=0.11 in /usr/local/lib/python3.7/dist-packages (from scikit-learn->hpsklearn==0.0.3) (1.1.0)\n",
            "Requirement already satisfied: threadpoolctl>=2.0.0 in /usr/local/lib/python3.7/dist-packages (from scikit-learn->hpsklearn==0.0.3) (3.0.0)\n",
            "Building wheels for collected packages: hpsklearn\n",
            "  Building wheel for hpsklearn (setup.py) ... \u001b[?25l\u001b[?25hdone\n",
            "  Created wheel for hpsklearn: filename=hpsklearn-0.0.3-py3-none-any.whl size=27011 sha256=f7edfce14a2edef617c68a6680634b247c6f69f5eb19f742dd6443f0c77fd7ef\n",
            "  Stored in directory: /tmp/pip-ephem-wheel-cache-n850q8eo/wheels/47/a5/46/9ca750026db9dfa5de4bf4836194554cb0e2e01a245588ea59\n",
            "Successfully built hpsklearn\n",
            "Installing collected packages: nose, hpsklearn\n",
            "Successfully installed hpsklearn-0.0.3 nose-1.3.7\n"
          ]
        }
      ]
    },
    {
      "cell_type": "code",
      "source": [
        "import autosklearn.classification\n",
        "automl = autosklearn.classification.AutoSklearnClassifier(\n",
        "    time_left_for_this_task=120,\n",
        "    per_run_time_limit=20,\n",
        "    tmp_folder='tmp',\n",
        "    #n_jobs=8\n",
        ")\n",
        "automl.fit(X_train, y_train, dataset_name='data')"
      ],
      "metadata": {
        "colab": {
          "base_uri": "https://localhost:8080/"
        },
        "id": "H3Etd84wafH8",
        "outputId": "f16c20a2-56ad-4f52-d6f2-c872764e9fda"
      },
      "execution_count": null,
      "outputs": [
        {
          "output_type": "execute_result",
          "data": {
            "text/plain": [
              "AutoSklearnClassifier(per_run_time_limit=20, time_left_for_this_task=120,\n",
              "                      tmp_folder='tmp')"
            ]
          },
          "metadata": {},
          "execution_count": 50
        }
      ]
    },
    {
      "cell_type": "code",
      "source": [
        "print(automl.leaderboard())"
      ],
      "metadata": {
        "colab": {
          "base_uri": "https://localhost:8080/"
        },
        "id": "cWOYgm3Ja51V",
        "outputId": "914848d6-348b-44aa-82ff-0620b9b726e4"
      },
      "execution_count": null,
      "outputs": [
        {
          "output_type": "stream",
          "name": "stdout",
          "text": [
            "          rank  ensemble_weight                 type      cost  duration\n",
            "model_id                                                                \n",
            "32           1             0.08        liblinear_svc  0.015873  1.055361\n",
            "2            2             0.02        random_forest  0.023810  2.116197\n",
            "30           3             0.04                  lda  0.023810  1.104235\n",
            "22           4             0.04          extra_trees  0.023810  1.726753\n",
            "10           5             0.02          extra_trees  0.023810  1.984034\n",
            "31           6             0.02          extra_trees  0.031746  2.272687\n",
            "19           7             0.04          extra_trees  0.031746  3.375653\n",
            "17           8             0.04                  mlp  0.031746  6.107903\n",
            "6            9             0.04                  mlp  0.031746  1.577186\n",
            "12          10             0.02    gradient_boosting  0.039683  1.636319\n",
            "14          11             0.06                  mlp  0.039683  2.063079\n",
            "27          12             0.08   passive_aggressive  0.039683  1.445039\n",
            "3           13             0.02                  mlp  0.039683  1.491690\n",
            "11          14             0.02    gradient_boosting  0.039683  1.497941\n",
            "33          15             0.02        random_forest  0.039683  1.983766\n",
            "20          16             0.06                  mlp  0.047619  2.905586\n",
            "28          17             0.06  k_nearest_neighbors  0.047619  0.967766\n",
            "16          18             0.06        random_forest  0.055556  2.483511\n",
            "8           19             0.06        random_forest  0.055556  2.409866\n",
            "5           20             0.08                  mlp  0.055556  1.921633\n",
            "4           21             0.02        random_forest  0.055556  2.488983\n",
            "23          22             0.06    gradient_boosting  0.063492  1.276564\n",
            "26          23             0.04  k_nearest_neighbors  0.079365  1.162075\n"
          ]
        }
      ]
    },
    {
      "cell_type": "code",
      "source": [
        "print(automl.show_models())"
      ],
      "metadata": {
        "colab": {
          "base_uri": "https://localhost:8080/"
        },
        "id": "cccxCWAqbsRf",
        "outputId": "34b870bd-18c2-4e2e-8cf0-56abb2d6603e"
      },
      "execution_count": null,
      "outputs": [
        {
          "output_type": "stream",
          "name": "stdout",
          "text": [
            "[(0.080000, SimpleClassificationPipeline({'balancing:strategy': 'none', 'classifier:__choice__': 'liblinear_svc', 'data_preprocessor:__choice__': 'feature_type', 'feature_preprocessor:__choice__': 'liblinear_svc_preprocessor', 'classifier:liblinear_svc:C': 832.5744883902069, 'classifier:liblinear_svc:dual': 'False', 'classifier:liblinear_svc:fit_intercept': 'True', 'classifier:liblinear_svc:intercept_scaling': 1, 'classifier:liblinear_svc:loss': 'squared_hinge', 'classifier:liblinear_svc:multi_class': 'ovr', 'classifier:liblinear_svc:penalty': 'l2', 'classifier:liblinear_svc:tol': 0.015340961719445064, 'data_preprocessor:feature_type:categorical_transformer:categorical_encoding:__choice__': 'one_hot_encoding', 'data_preprocessor:feature_type:categorical_transformer:category_coalescence:__choice__': 'no_coalescense', 'data_preprocessor:feature_type:numerical_transformer:imputation:strategy': 'median', 'data_preprocessor:feature_type:numerical_transformer:rescaling:__choice__': 'quantile_transformer', 'feature_preprocessor:liblinear_svc_preprocessor:C': 0.13670616482315423, 'feature_preprocessor:liblinear_svc_preprocessor:dual': 'False', 'feature_preprocessor:liblinear_svc_preprocessor:fit_intercept': 'True', 'feature_preprocessor:liblinear_svc_preprocessor:intercept_scaling': 1, 'feature_preprocessor:liblinear_svc_preprocessor:loss': 'squared_hinge', 'feature_preprocessor:liblinear_svc_preprocessor:multi_class': 'ovr', 'feature_preprocessor:liblinear_svc_preprocessor:penalty': 'l1', 'feature_preprocessor:liblinear_svc_preprocessor:tol': 0.033423225482940126, 'data_preprocessor:feature_type:numerical_transformer:rescaling:quantile_transformer:n_quantiles': 1419, 'data_preprocessor:feature_type:numerical_transformer:rescaling:quantile_transformer:output_distribution': 'normal'},\n",
            "dataset_properties={\n",
            "  'task': 1,\n",
            "  'sparse': False,\n",
            "  'multilabel': False,\n",
            "  'multiclass': False,\n",
            "  'target_type': 'classification',\n",
            "  'signed': False})),\n",
            "(0.080000, SimpleClassificationPipeline({'balancing:strategy': 'weighting', 'classifier:__choice__': 'passive_aggressive', 'data_preprocessor:__choice__': 'feature_type', 'feature_preprocessor:__choice__': 'polynomial', 'classifier:passive_aggressive:C': 8.978502477889184e-05, 'classifier:passive_aggressive:average': 'True', 'classifier:passive_aggressive:fit_intercept': 'True', 'classifier:passive_aggressive:loss': 'squared_hinge', 'classifier:passive_aggressive:tol': 0.004877777089118084, 'data_preprocessor:feature_type:categorical_transformer:categorical_encoding:__choice__': 'one_hot_encoding', 'data_preprocessor:feature_type:categorical_transformer:category_coalescence:__choice__': 'no_coalescense', 'data_preprocessor:feature_type:numerical_transformer:imputation:strategy': 'mean', 'data_preprocessor:feature_type:numerical_transformer:rescaling:__choice__': 'none', 'feature_preprocessor:polynomial:degree': 2, 'feature_preprocessor:polynomial:include_bias': 'True', 'feature_preprocessor:polynomial:interaction_only': 'True'},\n",
            "dataset_properties={\n",
            "  'task': 1,\n",
            "  'sparse': False,\n",
            "  'multilabel': False,\n",
            "  'multiclass': False,\n",
            "  'target_type': 'classification',\n",
            "  'signed': False})),\n",
            "(0.080000, SimpleClassificationPipeline({'balancing:strategy': 'weighting', 'classifier:__choice__': 'mlp', 'data_preprocessor:__choice__': 'feature_type', 'feature_preprocessor:__choice__': 'feature_agglomeration', 'classifier:mlp:activation': 'tanh', 'classifier:mlp:alpha': 0.00021148999718383549, 'classifier:mlp:batch_size': 'auto', 'classifier:mlp:beta_1': 0.9, 'classifier:mlp:beta_2': 0.999, 'classifier:mlp:early_stopping': 'train', 'classifier:mlp:epsilon': 1e-08, 'classifier:mlp:hidden_layer_depth': 3, 'classifier:mlp:learning_rate_init': 0.0007452270241186694, 'classifier:mlp:n_iter_no_change': 32, 'classifier:mlp:num_nodes_per_layer': 113, 'classifier:mlp:shuffle': 'True', 'classifier:mlp:solver': 'adam', 'classifier:mlp:tol': 0.0001, 'data_preprocessor:feature_type:categorical_transformer:categorical_encoding:__choice__': 'one_hot_encoding', 'data_preprocessor:feature_type:categorical_transformer:category_coalescence:__choice__': 'no_coalescense', 'data_preprocessor:feature_type:numerical_transformer:imputation:strategy': 'most_frequent', 'data_preprocessor:feature_type:numerical_transformer:rescaling:__choice__': 'standardize', 'feature_preprocessor:feature_agglomeration:affinity': 'euclidean', 'feature_preprocessor:feature_agglomeration:linkage': 'complete', 'feature_preprocessor:feature_agglomeration:n_clusters': 247, 'feature_preprocessor:feature_agglomeration:pooling_func': 'max'},\n",
            "dataset_properties={\n",
            "  'task': 1,\n",
            "  'sparse': False,\n",
            "  'multilabel': False,\n",
            "  'multiclass': False,\n",
            "  'target_type': 'classification',\n",
            "  'signed': False})),\n",
            "(0.060000, SimpleClassificationPipeline({'balancing:strategy': 'none', 'classifier:__choice__': 'mlp', 'data_preprocessor:__choice__': 'feature_type', 'feature_preprocessor:__choice__': 'extra_trees_preproc_for_classification', 'classifier:mlp:activation': 'tanh', 'classifier:mlp:alpha': 2.5550223982458062e-06, 'classifier:mlp:batch_size': 'auto', 'classifier:mlp:beta_1': 0.9, 'classifier:mlp:beta_2': 0.999, 'classifier:mlp:early_stopping': 'train', 'classifier:mlp:epsilon': 1e-08, 'classifier:mlp:hidden_layer_depth': 3, 'classifier:mlp:learning_rate_init': 0.00027271287919467994, 'classifier:mlp:n_iter_no_change': 32, 'classifier:mlp:num_nodes_per_layer': 54, 'classifier:mlp:shuffle': 'True', 'classifier:mlp:solver': 'adam', 'classifier:mlp:tol': 0.0001, 'data_preprocessor:feature_type:categorical_transformer:categorical_encoding:__choice__': 'no_encoding', 'data_preprocessor:feature_type:categorical_transformer:category_coalescence:__choice__': 'minority_coalescer', 'data_preprocessor:feature_type:numerical_transformer:imputation:strategy': 'mean', 'data_preprocessor:feature_type:numerical_transformer:rescaling:__choice__': 'standardize', 'feature_preprocessor:extra_trees_preproc_for_classification:bootstrap': 'False', 'feature_preprocessor:extra_trees_preproc_for_classification:criterion': 'entropy', 'feature_preprocessor:extra_trees_preproc_for_classification:max_depth': 'None', 'feature_preprocessor:extra_trees_preproc_for_classification:max_features': 0.7171678618990129, 'feature_preprocessor:extra_trees_preproc_for_classification:max_leaf_nodes': 'None', 'feature_preprocessor:extra_trees_preproc_for_classification:min_impurity_decrease': 0.0, 'feature_preprocessor:extra_trees_preproc_for_classification:min_samples_leaf': 4, 'feature_preprocessor:extra_trees_preproc_for_classification:min_samples_split': 17, 'feature_preprocessor:extra_trees_preproc_for_classification:min_weight_fraction_leaf': 0.0, 'feature_preprocessor:extra_trees_preproc_for_classification:n_estimators': 100, 'data_preprocessor:feature_type:categorical_transformer:category_coalescence:minority_coalescer:minimum_fraction': 0.017116661677715188},\n",
            "dataset_properties={\n",
            "  'task': 1,\n",
            "  'sparse': False,\n",
            "  'multilabel': False,\n",
            "  'multiclass': False,\n",
            "  'target_type': 'classification',\n",
            "  'signed': False})),\n",
            "(0.060000, SimpleClassificationPipeline({'balancing:strategy': 'weighting', 'classifier:__choice__': 'mlp', 'data_preprocessor:__choice__': 'feature_type', 'feature_preprocessor:__choice__': 'fast_ica', 'classifier:mlp:activation': 'relu', 'classifier:mlp:alpha': 0.02847755502162456, 'classifier:mlp:batch_size': 'auto', 'classifier:mlp:beta_1': 0.9, 'classifier:mlp:beta_2': 0.999, 'classifier:mlp:early_stopping': 'train', 'classifier:mlp:epsilon': 1e-08, 'classifier:mlp:hidden_layer_depth': 2, 'classifier:mlp:learning_rate_init': 0.000421568792103947, 'classifier:mlp:n_iter_no_change': 32, 'classifier:mlp:num_nodes_per_layer': 123, 'classifier:mlp:shuffle': 'True', 'classifier:mlp:solver': 'adam', 'classifier:mlp:tol': 0.0001, 'data_preprocessor:feature_type:categorical_transformer:categorical_encoding:__choice__': 'no_encoding', 'data_preprocessor:feature_type:categorical_transformer:category_coalescence:__choice__': 'no_coalescense', 'data_preprocessor:feature_type:numerical_transformer:imputation:strategy': 'median', 'data_preprocessor:feature_type:numerical_transformer:rescaling:__choice__': 'minmax', 'feature_preprocessor:fast_ica:algorithm': 'parallel', 'feature_preprocessor:fast_ica:fun': 'exp', 'feature_preprocessor:fast_ica:whiten': 'False'},\n",
            "dataset_properties={\n",
            "  'task': 1,\n",
            "  'sparse': False,\n",
            "  'multilabel': False,\n",
            "  'multiclass': False,\n",
            "  'target_type': 'classification',\n",
            "  'signed': False})),\n",
            "(0.060000, SimpleClassificationPipeline({'balancing:strategy': 'none', 'classifier:__choice__': 'k_nearest_neighbors', 'data_preprocessor:__choice__': 'feature_type', 'feature_preprocessor:__choice__': 'no_preprocessing', 'classifier:k_nearest_neighbors:n_neighbors': 2, 'classifier:k_nearest_neighbors:p': 2, 'classifier:k_nearest_neighbors:weights': 'distance', 'data_preprocessor:feature_type:categorical_transformer:categorical_encoding:__choice__': 'no_encoding', 'data_preprocessor:feature_type:categorical_transformer:category_coalescence:__choice__': 'minority_coalescer', 'data_preprocessor:feature_type:numerical_transformer:imputation:strategy': 'mean', 'data_preprocessor:feature_type:numerical_transformer:rescaling:__choice__': 'minmax', 'data_preprocessor:feature_type:categorical_transformer:category_coalescence:minority_coalescer:minimum_fraction': 0.0029782582146647843},\n",
            "dataset_properties={\n",
            "  'task': 1,\n",
            "  'sparse': False,\n",
            "  'multilabel': False,\n",
            "  'multiclass': False,\n",
            "  'target_type': 'classification',\n",
            "  'signed': False})),\n",
            "(0.060000, SimpleClassificationPipeline({'balancing:strategy': 'weighting', 'classifier:__choice__': 'random_forest', 'data_preprocessor:__choice__': 'feature_type', 'feature_preprocessor:__choice__': 'extra_trees_preproc_for_classification', 'classifier:random_forest:bootstrap': 'True', 'classifier:random_forest:criterion': 'gini', 'classifier:random_forest:max_depth': 'None', 'classifier:random_forest:max_features': 0.43999367631975456, 'classifier:random_forest:max_leaf_nodes': 'None', 'classifier:random_forest:min_impurity_decrease': 0.0, 'classifier:random_forest:min_samples_leaf': 2, 'classifier:random_forest:min_samples_split': 2, 'classifier:random_forest:min_weight_fraction_leaf': 0.0, 'data_preprocessor:feature_type:categorical_transformer:categorical_encoding:__choice__': 'no_encoding', 'data_preprocessor:feature_type:categorical_transformer:category_coalescence:__choice__': 'no_coalescense', 'data_preprocessor:feature_type:numerical_transformer:imputation:strategy': 'most_frequent', 'data_preprocessor:feature_type:numerical_transformer:rescaling:__choice__': 'standardize', 'feature_preprocessor:extra_trees_preproc_for_classification:bootstrap': 'True', 'feature_preprocessor:extra_trees_preproc_for_classification:criterion': 'entropy', 'feature_preprocessor:extra_trees_preproc_for_classification:max_depth': 'None', 'feature_preprocessor:extra_trees_preproc_for_classification:max_features': 0.8134515743047006, 'feature_preprocessor:extra_trees_preproc_for_classification:max_leaf_nodes': 'None', 'feature_preprocessor:extra_trees_preproc_for_classification:min_impurity_decrease': 0.0, 'feature_preprocessor:extra_trees_preproc_for_classification:min_samples_leaf': 9, 'feature_preprocessor:extra_trees_preproc_for_classification:min_samples_split': 20, 'feature_preprocessor:extra_trees_preproc_for_classification:min_weight_fraction_leaf': 0.0, 'feature_preprocessor:extra_trees_preproc_for_classification:n_estimators': 100},\n",
            "dataset_properties={\n",
            "  'task': 1,\n",
            "  'sparse': False,\n",
            "  'multilabel': False,\n",
            "  'multiclass': False,\n",
            "  'target_type': 'classification',\n",
            "  'signed': False})),\n",
            "(0.060000, SimpleClassificationPipeline({'balancing:strategy': 'weighting', 'classifier:__choice__': 'random_forest', 'data_preprocessor:__choice__': 'feature_type', 'feature_preprocessor:__choice__': 'extra_trees_preproc_for_classification', 'classifier:random_forest:bootstrap': 'True', 'classifier:random_forest:criterion': 'entropy', 'classifier:random_forest:max_depth': 'None', 'classifier:random_forest:max_features': 0.5805882119281688, 'classifier:random_forest:max_leaf_nodes': 'None', 'classifier:random_forest:min_impurity_decrease': 0.0, 'classifier:random_forest:min_samples_leaf': 1, 'classifier:random_forest:min_samples_split': 2, 'classifier:random_forest:min_weight_fraction_leaf': 0.0, 'data_preprocessor:feature_type:categorical_transformer:categorical_encoding:__choice__': 'one_hot_encoding', 'data_preprocessor:feature_type:categorical_transformer:category_coalescence:__choice__': 'minority_coalescer', 'data_preprocessor:feature_type:numerical_transformer:imputation:strategy': 'median', 'data_preprocessor:feature_type:numerical_transformer:rescaling:__choice__': 'minmax', 'feature_preprocessor:extra_trees_preproc_for_classification:bootstrap': 'False', 'feature_preprocessor:extra_trees_preproc_for_classification:criterion': 'gini', 'feature_preprocessor:extra_trees_preproc_for_classification:max_depth': 'None', 'feature_preprocessor:extra_trees_preproc_for_classification:max_features': 0.8490063449951434, 'feature_preprocessor:extra_trees_preproc_for_classification:max_leaf_nodes': 'None', 'feature_preprocessor:extra_trees_preproc_for_classification:min_impurity_decrease': 0.0, 'feature_preprocessor:extra_trees_preproc_for_classification:min_samples_leaf': 9, 'feature_preprocessor:extra_trees_preproc_for_classification:min_samples_split': 2, 'feature_preprocessor:extra_trees_preproc_for_classification:min_weight_fraction_leaf': 0.0, 'feature_preprocessor:extra_trees_preproc_for_classification:n_estimators': 100, 'data_preprocessor:feature_type:categorical_transformer:category_coalescence:minority_coalescer:minimum_fraction': 0.11533421526707399},\n",
            "dataset_properties={\n",
            "  'task': 1,\n",
            "  'sparse': False,\n",
            "  'multilabel': False,\n",
            "  'multiclass': False,\n",
            "  'target_type': 'classification',\n",
            "  'signed': False})),\n",
            "(0.060000, SimpleClassificationPipeline({'balancing:strategy': 'none', 'classifier:__choice__': 'gradient_boosting', 'data_preprocessor:__choice__': 'feature_type', 'feature_preprocessor:__choice__': 'extra_trees_preproc_for_classification', 'classifier:gradient_boosting:early_stop': 'valid', 'classifier:gradient_boosting:l2_regularization': 8.057778875694463e-05, 'classifier:gradient_boosting:learning_rate': 0.09179220974965213, 'classifier:gradient_boosting:loss': 'auto', 'classifier:gradient_boosting:max_bins': 255, 'classifier:gradient_boosting:max_depth': 'None', 'classifier:gradient_boosting:max_leaf_nodes': 200, 'classifier:gradient_boosting:min_samples_leaf': 20, 'classifier:gradient_boosting:scoring': 'loss', 'classifier:gradient_boosting:tol': 1e-07, 'data_preprocessor:feature_type:categorical_transformer:categorical_encoding:__choice__': 'one_hot_encoding', 'data_preprocessor:feature_type:categorical_transformer:category_coalescence:__choice__': 'minority_coalescer', 'data_preprocessor:feature_type:numerical_transformer:imputation:strategy': 'most_frequent', 'data_preprocessor:feature_type:numerical_transformer:rescaling:__choice__': 'quantile_transformer', 'feature_preprocessor:extra_trees_preproc_for_classification:bootstrap': 'False', 'feature_preprocessor:extra_trees_preproc_for_classification:criterion': 'gini', 'feature_preprocessor:extra_trees_preproc_for_classification:max_depth': 'None', 'feature_preprocessor:extra_trees_preproc_for_classification:max_features': 0.9984367650965825, 'feature_preprocessor:extra_trees_preproc_for_classification:max_leaf_nodes': 'None', 'feature_preprocessor:extra_trees_preproc_for_classification:min_impurity_decrease': 0.0, 'feature_preprocessor:extra_trees_preproc_for_classification:min_samples_leaf': 13, 'feature_preprocessor:extra_trees_preproc_for_classification:min_samples_split': 18, 'feature_preprocessor:extra_trees_preproc_for_classification:min_weight_fraction_leaf': 0.0, 'feature_preprocessor:extra_trees_preproc_for_classification:n_estimators': 100, 'classifier:gradient_boosting:n_iter_no_change': 18, 'classifier:gradient_boosting:validation_fraction': 0.14295295806077554, 'data_preprocessor:feature_type:categorical_transformer:category_coalescence:minority_coalescer:minimum_fraction': 0.008542188583124829, 'data_preprocessor:feature_type:numerical_transformer:rescaling:quantile_transformer:n_quantiles': 1102, 'data_preprocessor:feature_type:numerical_transformer:rescaling:quantile_transformer:output_distribution': 'uniform'},\n",
            "dataset_properties={\n",
            "  'task': 1,\n",
            "  'sparse': False,\n",
            "  'multilabel': False,\n",
            "  'multiclass': False,\n",
            "  'target_type': 'classification',\n",
            "  'signed': False})),\n",
            "(0.040000, SimpleClassificationPipeline({'balancing:strategy': 'none', 'classifier:__choice__': 'extra_trees', 'data_preprocessor:__choice__': 'feature_type', 'feature_preprocessor:__choice__': 'select_rates_classification', 'classifier:extra_trees:bootstrap': 'False', 'classifier:extra_trees:criterion': 'entropy', 'classifier:extra_trees:max_depth': 'None', 'classifier:extra_trees:max_features': 0.562561668029056, 'classifier:extra_trees:max_leaf_nodes': 'None', 'classifier:extra_trees:min_impurity_decrease': 0.0, 'classifier:extra_trees:min_samples_leaf': 2, 'classifier:extra_trees:min_samples_split': 15, 'classifier:extra_trees:min_weight_fraction_leaf': 0.0, 'data_preprocessor:feature_type:categorical_transformer:categorical_encoding:__choice__': 'one_hot_encoding', 'data_preprocessor:feature_type:categorical_transformer:category_coalescence:__choice__': 'no_coalescense', 'data_preprocessor:feature_type:numerical_transformer:imputation:strategy': 'median', 'data_preprocessor:feature_type:numerical_transformer:rescaling:__choice__': 'none', 'feature_preprocessor:select_rates_classification:alpha': 0.32106218519214325, 'feature_preprocessor:select_rates_classification:score_func': 'chi2', 'feature_preprocessor:select_rates_classification:mode': 'fwe'},\n",
            "dataset_properties={\n",
            "  'task': 1,\n",
            "  'sparse': False,\n",
            "  'multilabel': False,\n",
            "  'multiclass': False,\n",
            "  'target_type': 'classification',\n",
            "  'signed': False})),\n",
            "(0.040000, SimpleClassificationPipeline({'balancing:strategy': 'weighting', 'classifier:__choice__': 'lda', 'data_preprocessor:__choice__': 'feature_type', 'feature_preprocessor:__choice__': 'select_rates_classification', 'classifier:lda:shrinkage': 'auto', 'classifier:lda:tol': 1.5567777104455545e-05, 'data_preprocessor:feature_type:categorical_transformer:categorical_encoding:__choice__': 'no_encoding', 'data_preprocessor:feature_type:categorical_transformer:category_coalescence:__choice__': 'minority_coalescer', 'data_preprocessor:feature_type:numerical_transformer:imputation:strategy': 'median', 'data_preprocessor:feature_type:numerical_transformer:rescaling:__choice__': 'minmax', 'feature_preprocessor:select_rates_classification:alpha': 0.20236232290808195, 'feature_preprocessor:select_rates_classification:score_func': 'f_classif', 'data_preprocessor:feature_type:categorical_transformer:category_coalescence:minority_coalescer:minimum_fraction': 0.33853918757149826, 'feature_preprocessor:select_rates_classification:mode': 'fpr'},\n",
            "dataset_properties={\n",
            "  'task': 1,\n",
            "  'sparse': False,\n",
            "  'multilabel': False,\n",
            "  'multiclass': False,\n",
            "  'target_type': 'classification',\n",
            "  'signed': False})),\n",
            "(0.040000, SimpleClassificationPipeline({'balancing:strategy': 'weighting', 'classifier:__choice__': 'mlp', 'data_preprocessor:__choice__': 'feature_type', 'feature_preprocessor:__choice__': 'fast_ica', 'classifier:mlp:activation': 'relu', 'classifier:mlp:alpha': 0.0017940473175767063, 'classifier:mlp:batch_size': 'auto', 'classifier:mlp:beta_1': 0.9, 'classifier:mlp:beta_2': 0.999, 'classifier:mlp:early_stopping': 'valid', 'classifier:mlp:epsilon': 1e-08, 'classifier:mlp:hidden_layer_depth': 2, 'classifier:mlp:learning_rate_init': 0.0004684917334431039, 'classifier:mlp:n_iter_no_change': 32, 'classifier:mlp:num_nodes_per_layer': 101, 'classifier:mlp:shuffle': 'True', 'classifier:mlp:solver': 'adam', 'classifier:mlp:tol': 0.0001, 'data_preprocessor:feature_type:categorical_transformer:categorical_encoding:__choice__': 'no_encoding', 'data_preprocessor:feature_type:categorical_transformer:category_coalescence:__choice__': 'no_coalescense', 'data_preprocessor:feature_type:numerical_transformer:imputation:strategy': 'most_frequent', 'data_preprocessor:feature_type:numerical_transformer:rescaling:__choice__': 'standardize', 'feature_preprocessor:fast_ica:algorithm': 'parallel', 'feature_preprocessor:fast_ica:fun': 'exp', 'feature_preprocessor:fast_ica:whiten': 'False', 'classifier:mlp:validation_fraction': 0.1},\n",
            "dataset_properties={\n",
            "  'task': 1,\n",
            "  'sparse': False,\n",
            "  'multilabel': False,\n",
            "  'multiclass': False,\n",
            "  'target_type': 'classification',\n",
            "  'signed': False})),\n",
            "(0.040000, SimpleClassificationPipeline({'balancing:strategy': 'weighting', 'classifier:__choice__': 'mlp', 'data_preprocessor:__choice__': 'feature_type', 'feature_preprocessor:__choice__': 'feature_agglomeration', 'classifier:mlp:activation': 'relu', 'classifier:mlp:alpha': 4.2841884333778574e-06, 'classifier:mlp:batch_size': 'auto', 'classifier:mlp:beta_1': 0.9, 'classifier:mlp:beta_2': 0.999, 'classifier:mlp:early_stopping': 'train', 'classifier:mlp:epsilon': 1e-08, 'classifier:mlp:hidden_layer_depth': 3, 'classifier:mlp:learning_rate_init': 0.0011804284312897009, 'classifier:mlp:n_iter_no_change': 32, 'classifier:mlp:num_nodes_per_layer': 263, 'classifier:mlp:shuffle': 'True', 'classifier:mlp:solver': 'adam', 'classifier:mlp:tol': 0.0001, 'data_preprocessor:feature_type:categorical_transformer:categorical_encoding:__choice__': 'one_hot_encoding', 'data_preprocessor:feature_type:categorical_transformer:category_coalescence:__choice__': 'minority_coalescer', 'data_preprocessor:feature_type:numerical_transformer:imputation:strategy': 'mean', 'data_preprocessor:feature_type:numerical_transformer:rescaling:__choice__': 'minmax', 'feature_preprocessor:feature_agglomeration:affinity': 'manhattan', 'feature_preprocessor:feature_agglomeration:linkage': 'average', 'feature_preprocessor:feature_agglomeration:n_clusters': 338, 'feature_preprocessor:feature_agglomeration:pooling_func': 'mean', 'data_preprocessor:feature_type:categorical_transformer:category_coalescence:minority_coalescer:minimum_fraction': 0.004071801722749603},\n",
            "dataset_properties={\n",
            "  'task': 1,\n",
            "  'sparse': False,\n",
            "  'multilabel': False,\n",
            "  'multiclass': False,\n",
            "  'target_type': 'classification',\n",
            "  'signed': False})),\n",
            "(0.040000, SimpleClassificationPipeline({'balancing:strategy': 'weighting', 'classifier:__choice__': 'extra_trees', 'data_preprocessor:__choice__': 'feature_type', 'feature_preprocessor:__choice__': 'polynomial', 'classifier:extra_trees:bootstrap': 'False', 'classifier:extra_trees:criterion': 'entropy', 'classifier:extra_trees:max_depth': 'None', 'classifier:extra_trees:max_features': 0.993803313878608, 'classifier:extra_trees:max_leaf_nodes': 'None', 'classifier:extra_trees:min_impurity_decrease': 0.0, 'classifier:extra_trees:min_samples_leaf': 2, 'classifier:extra_trees:min_samples_split': 20, 'classifier:extra_trees:min_weight_fraction_leaf': 0.0, 'data_preprocessor:feature_type:categorical_transformer:categorical_encoding:__choice__': 'no_encoding', 'data_preprocessor:feature_type:categorical_transformer:category_coalescence:__choice__': 'minority_coalescer', 'data_preprocessor:feature_type:numerical_transformer:imputation:strategy': 'median', 'data_preprocessor:feature_type:numerical_transformer:rescaling:__choice__': 'robust_scaler', 'feature_preprocessor:polynomial:degree': 2, 'feature_preprocessor:polynomial:include_bias': 'True', 'feature_preprocessor:polynomial:interaction_only': 'True', 'data_preprocessor:feature_type:categorical_transformer:category_coalescence:minority_coalescer:minimum_fraction': 0.41826215858914706, 'data_preprocessor:feature_type:numerical_transformer:rescaling:robust_scaler:q_max': 0.7305615609807856, 'data_preprocessor:feature_type:numerical_transformer:rescaling:robust_scaler:q_min': 0.25595970768123566},\n",
            "dataset_properties={\n",
            "  'task': 1,\n",
            "  'sparse': False,\n",
            "  'multilabel': False,\n",
            "  'multiclass': False,\n",
            "  'target_type': 'classification',\n",
            "  'signed': False})),\n",
            "(0.040000, SimpleClassificationPipeline({'balancing:strategy': 'weighting', 'classifier:__choice__': 'k_nearest_neighbors', 'data_preprocessor:__choice__': 'feature_type', 'feature_preprocessor:__choice__': 'fast_ica', 'classifier:k_nearest_neighbors:n_neighbors': 1, 'classifier:k_nearest_neighbors:p': 1, 'classifier:k_nearest_neighbors:weights': 'uniform', 'data_preprocessor:feature_type:categorical_transformer:categorical_encoding:__choice__': 'one_hot_encoding', 'data_preprocessor:feature_type:categorical_transformer:category_coalescence:__choice__': 'no_coalescense', 'data_preprocessor:feature_type:numerical_transformer:imputation:strategy': 'mean', 'data_preprocessor:feature_type:numerical_transformer:rescaling:__choice__': 'normalize', 'feature_preprocessor:fast_ica:algorithm': 'deflation', 'feature_preprocessor:fast_ica:fun': 'cube', 'feature_preprocessor:fast_ica:whiten': 'False'},\n",
            "dataset_properties={\n",
            "  'task': 1,\n",
            "  'sparse': False,\n",
            "  'multilabel': False,\n",
            "  'multiclass': False,\n",
            "  'target_type': 'classification',\n",
            "  'signed': False})),\n",
            "(0.020000, SimpleClassificationPipeline({'balancing:strategy': 'none', 'classifier:__choice__': 'random_forest', 'data_preprocessor:__choice__': 'feature_type', 'feature_preprocessor:__choice__': 'no_preprocessing', 'classifier:random_forest:bootstrap': 'True', 'classifier:random_forest:criterion': 'gini', 'classifier:random_forest:max_depth': 'None', 'classifier:random_forest:max_features': 0.5, 'classifier:random_forest:max_leaf_nodes': 'None', 'classifier:random_forest:min_impurity_decrease': 0.0, 'classifier:random_forest:min_samples_leaf': 1, 'classifier:random_forest:min_samples_split': 2, 'classifier:random_forest:min_weight_fraction_leaf': 0.0, 'data_preprocessor:feature_type:categorical_transformer:categorical_encoding:__choice__': 'one_hot_encoding', 'data_preprocessor:feature_type:categorical_transformer:category_coalescence:__choice__': 'minority_coalescer', 'data_preprocessor:feature_type:numerical_transformer:imputation:strategy': 'mean', 'data_preprocessor:feature_type:numerical_transformer:rescaling:__choice__': 'standardize', 'data_preprocessor:feature_type:categorical_transformer:category_coalescence:minority_coalescer:minimum_fraction': 0.01},\n",
            "dataset_properties={\n",
            "  'task': 1,\n",
            "  'sparse': False,\n",
            "  'multilabel': False,\n",
            "  'multiclass': False,\n",
            "  'target_type': 'classification',\n",
            "  'signed': False})),\n",
            "(0.020000, SimpleClassificationPipeline({'balancing:strategy': 'none', 'classifier:__choice__': 'extra_trees', 'data_preprocessor:__choice__': 'feature_type', 'feature_preprocessor:__choice__': 'polynomial', 'classifier:extra_trees:bootstrap': 'False', 'classifier:extra_trees:criterion': 'gini', 'classifier:extra_trees:max_depth': 'None', 'classifier:extra_trees:max_features': 0.5707983257382487, 'classifier:extra_trees:max_leaf_nodes': 'None', 'classifier:extra_trees:min_impurity_decrease': 0.0, 'classifier:extra_trees:min_samples_leaf': 3, 'classifier:extra_trees:min_samples_split': 11, 'classifier:extra_trees:min_weight_fraction_leaf': 0.0, 'data_preprocessor:feature_type:categorical_transformer:categorical_encoding:__choice__': 'one_hot_encoding', 'data_preprocessor:feature_type:categorical_transformer:category_coalescence:__choice__': 'no_coalescense', 'data_preprocessor:feature_type:numerical_transformer:imputation:strategy': 'median', 'data_preprocessor:feature_type:numerical_transformer:rescaling:__choice__': 'none', 'feature_preprocessor:polynomial:degree': 2, 'feature_preprocessor:polynomial:include_bias': 'False', 'feature_preprocessor:polynomial:interaction_only': 'False'},\n",
            "dataset_properties={\n",
            "  'task': 1,\n",
            "  'sparse': False,\n",
            "  'multilabel': False,\n",
            "  'multiclass': False,\n",
            "  'target_type': 'classification',\n",
            "  'signed': False})),\n",
            "(0.020000, SimpleClassificationPipeline({'balancing:strategy': 'weighting', 'classifier:__choice__': 'extra_trees', 'data_preprocessor:__choice__': 'feature_type', 'feature_preprocessor:__choice__': 'polynomial', 'classifier:extra_trees:bootstrap': 'True', 'classifier:extra_trees:criterion': 'gini', 'classifier:extra_trees:max_depth': 'None', 'classifier:extra_trees:max_features': 0.4930836897484315, 'classifier:extra_trees:max_leaf_nodes': 'None', 'classifier:extra_trees:min_impurity_decrease': 0.0, 'classifier:extra_trees:min_samples_leaf': 1, 'classifier:extra_trees:min_samples_split': 8, 'classifier:extra_trees:min_weight_fraction_leaf': 0.0, 'data_preprocessor:feature_type:categorical_transformer:categorical_encoding:__choice__': 'encoding', 'data_preprocessor:feature_type:categorical_transformer:category_coalescence:__choice__': 'no_coalescense', 'data_preprocessor:feature_type:numerical_transformer:imputation:strategy': 'median', 'data_preprocessor:feature_type:numerical_transformer:rescaling:__choice__': 'none', 'feature_preprocessor:polynomial:degree': 2, 'feature_preprocessor:polynomial:include_bias': 'True', 'feature_preprocessor:polynomial:interaction_only': 'False'},\n",
            "dataset_properties={\n",
            "  'task': 1,\n",
            "  'sparse': False,\n",
            "  'multilabel': False,\n",
            "  'multiclass': False,\n",
            "  'target_type': 'classification',\n",
            "  'signed': False})),\n",
            "(0.020000, SimpleClassificationPipeline({'balancing:strategy': 'none', 'classifier:__choice__': 'mlp', 'data_preprocessor:__choice__': 'feature_type', 'feature_preprocessor:__choice__': 'feature_agglomeration', 'classifier:mlp:activation': 'tanh', 'classifier:mlp:alpha': 0.0001363185819149026, 'classifier:mlp:batch_size': 'auto', 'classifier:mlp:beta_1': 0.9, 'classifier:mlp:beta_2': 0.999, 'classifier:mlp:early_stopping': 'valid', 'classifier:mlp:epsilon': 1e-08, 'classifier:mlp:hidden_layer_depth': 3, 'classifier:mlp:learning_rate_init': 0.00018009776276177523, 'classifier:mlp:n_iter_no_change': 32, 'classifier:mlp:num_nodes_per_layer': 115, 'classifier:mlp:shuffle': 'True', 'classifier:mlp:solver': 'adam', 'classifier:mlp:tol': 0.0001, 'data_preprocessor:feature_type:categorical_transformer:categorical_encoding:__choice__': 'no_encoding', 'data_preprocessor:feature_type:categorical_transformer:category_coalescence:__choice__': 'no_coalescense', 'data_preprocessor:feature_type:numerical_transformer:imputation:strategy': 'median', 'data_preprocessor:feature_type:numerical_transformer:rescaling:__choice__': 'standardize', 'feature_preprocessor:feature_agglomeration:affinity': 'euclidean', 'feature_preprocessor:feature_agglomeration:linkage': 'ward', 'feature_preprocessor:feature_agglomeration:n_clusters': 182, 'feature_preprocessor:feature_agglomeration:pooling_func': 'mean', 'classifier:mlp:validation_fraction': 0.1},\n",
            "dataset_properties={\n",
            "  'task': 1,\n",
            "  'sparse': False,\n",
            "  'multilabel': False,\n",
            "  'multiclass': False,\n",
            "  'target_type': 'classification',\n",
            "  'signed': False})),\n",
            "(0.020000, SimpleClassificationPipeline({'balancing:strategy': 'none', 'classifier:__choice__': 'gradient_boosting', 'data_preprocessor:__choice__': 'feature_type', 'feature_preprocessor:__choice__': 'liblinear_svc_preprocessor', 'classifier:gradient_boosting:early_stop': 'train', 'classifier:gradient_boosting:l2_regularization': 0.005326508887463406, 'classifier:gradient_boosting:learning_rate': 0.060800813211425456, 'classifier:gradient_boosting:loss': 'auto', 'classifier:gradient_boosting:max_bins': 255, 'classifier:gradient_boosting:max_depth': 'None', 'classifier:gradient_boosting:max_leaf_nodes': 6, 'classifier:gradient_boosting:min_samples_leaf': 5, 'classifier:gradient_boosting:scoring': 'loss', 'classifier:gradient_boosting:tol': 1e-07, 'data_preprocessor:feature_type:categorical_transformer:categorical_encoding:__choice__': 'no_encoding', 'data_preprocessor:feature_type:categorical_transformer:category_coalescence:__choice__': 'no_coalescense', 'data_preprocessor:feature_type:numerical_transformer:imputation:strategy': 'median', 'data_preprocessor:feature_type:numerical_transformer:rescaling:__choice__': 'minmax', 'feature_preprocessor:liblinear_svc_preprocessor:C': 13.550960330919455, 'feature_preprocessor:liblinear_svc_preprocessor:dual': 'False', 'feature_preprocessor:liblinear_svc_preprocessor:fit_intercept': 'True', 'feature_preprocessor:liblinear_svc_preprocessor:intercept_scaling': 1, 'feature_preprocessor:liblinear_svc_preprocessor:loss': 'squared_hinge', 'feature_preprocessor:liblinear_svc_preprocessor:multi_class': 'ovr', 'feature_preprocessor:liblinear_svc_preprocessor:penalty': 'l1', 'feature_preprocessor:liblinear_svc_preprocessor:tol': 1.2958033930435781e-05, 'classifier:gradient_boosting:n_iter_no_change': 5},\n",
            "dataset_properties={\n",
            "  'task': 1,\n",
            "  'sparse': False,\n",
            "  'multilabel': False,\n",
            "  'multiclass': False,\n",
            "  'target_type': 'classification',\n",
            "  'signed': False})),\n",
            "(0.020000, SimpleClassificationPipeline({'balancing:strategy': 'weighting', 'classifier:__choice__': 'gradient_boosting', 'data_preprocessor:__choice__': 'feature_type', 'feature_preprocessor:__choice__': 'feature_agglomeration', 'classifier:gradient_boosting:early_stop': 'off', 'classifier:gradient_boosting:l2_regularization': 1.0647401999412075e-10, 'classifier:gradient_boosting:learning_rate': 0.08291320147381159, 'classifier:gradient_boosting:loss': 'auto', 'classifier:gradient_boosting:max_bins': 255, 'classifier:gradient_boosting:max_depth': 'None', 'classifier:gradient_boosting:max_leaf_nodes': 39, 'classifier:gradient_boosting:min_samples_leaf': 20, 'classifier:gradient_boosting:scoring': 'loss', 'classifier:gradient_boosting:tol': 1e-07, 'data_preprocessor:feature_type:categorical_transformer:categorical_encoding:__choice__': 'no_encoding', 'data_preprocessor:feature_type:categorical_transformer:category_coalescence:__choice__': 'minority_coalescer', 'data_preprocessor:feature_type:numerical_transformer:imputation:strategy': 'most_frequent', 'data_preprocessor:feature_type:numerical_transformer:rescaling:__choice__': 'robust_scaler', 'feature_preprocessor:feature_agglomeration:affinity': 'euclidean', 'feature_preprocessor:feature_agglomeration:linkage': 'ward', 'feature_preprocessor:feature_agglomeration:n_clusters': 25, 'feature_preprocessor:feature_agglomeration:pooling_func': 'max', 'data_preprocessor:feature_type:categorical_transformer:category_coalescence:minority_coalescer:minimum_fraction': 0.008520698757932555, 'data_preprocessor:feature_type:numerical_transformer:rescaling:robust_scaler:q_max': 0.7710965306105907, 'data_preprocessor:feature_type:numerical_transformer:rescaling:robust_scaler:q_min': 0.257333974790539},\n",
            "dataset_properties={\n",
            "  'task': 1,\n",
            "  'sparse': False,\n",
            "  'multilabel': False,\n",
            "  'multiclass': False,\n",
            "  'target_type': 'classification',\n",
            "  'signed': False})),\n",
            "(0.020000, SimpleClassificationPipeline({'balancing:strategy': 'none', 'classifier:__choice__': 'random_forest', 'data_preprocessor:__choice__': 'feature_type', 'feature_preprocessor:__choice__': 'select_rates_classification', 'classifier:random_forest:bootstrap': 'True', 'classifier:random_forest:criterion': 'gini', 'classifier:random_forest:max_depth': 'None', 'classifier:random_forest:max_features': 0.14233898013355584, 'classifier:random_forest:max_leaf_nodes': 'None', 'classifier:random_forest:min_impurity_decrease': 0.0, 'classifier:random_forest:min_samples_leaf': 2, 'classifier:random_forest:min_samples_split': 12, 'classifier:random_forest:min_weight_fraction_leaf': 0.0, 'data_preprocessor:feature_type:categorical_transformer:categorical_encoding:__choice__': 'one_hot_encoding', 'data_preprocessor:feature_type:categorical_transformer:category_coalescence:__choice__': 'no_coalescense', 'data_preprocessor:feature_type:numerical_transformer:imputation:strategy': 'median', 'data_preprocessor:feature_type:numerical_transformer:rescaling:__choice__': 'quantile_transformer', 'feature_preprocessor:select_rates_classification:alpha': 0.34422573005470497, 'feature_preprocessor:select_rates_classification:score_func': 'chi2', 'data_preprocessor:feature_type:numerical_transformer:rescaling:quantile_transformer:n_quantiles': 968, 'data_preprocessor:feature_type:numerical_transformer:rescaling:quantile_transformer:output_distribution': 'uniform', 'feature_preprocessor:select_rates_classification:mode': 'fdr'},\n",
            "dataset_properties={\n",
            "  'task': 1,\n",
            "  'sparse': False,\n",
            "  'multilabel': False,\n",
            "  'multiclass': False,\n",
            "  'target_type': 'classification',\n",
            "  'signed': False})),\n",
            "(0.020000, SimpleClassificationPipeline({'balancing:strategy': 'weighting', 'classifier:__choice__': 'random_forest', 'data_preprocessor:__choice__': 'feature_type', 'feature_preprocessor:__choice__': 'extra_trees_preproc_for_classification', 'classifier:random_forest:bootstrap': 'True', 'classifier:random_forest:criterion': 'entropy', 'classifier:random_forest:max_depth': 'None', 'classifier:random_forest:max_features': 0.4775492074518431, 'classifier:random_forest:max_leaf_nodes': 'None', 'classifier:random_forest:min_impurity_decrease': 0.0, 'classifier:random_forest:min_samples_leaf': 2, 'classifier:random_forest:min_samples_split': 2, 'classifier:random_forest:min_weight_fraction_leaf': 0.0, 'data_preprocessor:feature_type:categorical_transformer:categorical_encoding:__choice__': 'no_encoding', 'data_preprocessor:feature_type:categorical_transformer:category_coalescence:__choice__': 'minority_coalescer', 'data_preprocessor:feature_type:numerical_transformer:imputation:strategy': 'most_frequent', 'data_preprocessor:feature_type:numerical_transformer:rescaling:__choice__': 'robust_scaler', 'feature_preprocessor:extra_trees_preproc_for_classification:bootstrap': 'False', 'feature_preprocessor:extra_trees_preproc_for_classification:criterion': 'entropy', 'feature_preprocessor:extra_trees_preproc_for_classification:max_depth': 'None', 'feature_preprocessor:extra_trees_preproc_for_classification:max_features': 0.5662900693317384, 'feature_preprocessor:extra_trees_preproc_for_classification:max_leaf_nodes': 'None', 'feature_preprocessor:extra_trees_preproc_for_classification:min_impurity_decrease': 0.0, 'feature_preprocessor:extra_trees_preproc_for_classification:min_samples_leaf': 1, 'feature_preprocessor:extra_trees_preproc_for_classification:min_samples_split': 7, 'feature_preprocessor:extra_trees_preproc_for_classification:min_weight_fraction_leaf': 0.0, 'feature_preprocessor:extra_trees_preproc_for_classification:n_estimators': 100, 'data_preprocessor:feature_type:categorical_transformer:category_coalescence:minority_coalescer:minimum_fraction': 0.015996368052062886, 'data_preprocessor:feature_type:numerical_transformer:rescaling:robust_scaler:q_max': 0.7845396961078424, 'data_preprocessor:feature_type:numerical_transformer:rescaling:robust_scaler:q_min': 0.25545052141264185},\n",
            "dataset_properties={\n",
            "  'task': 1,\n",
            "  'sparse': False,\n",
            "  'multilabel': False,\n",
            "  'multiclass': False,\n",
            "  'target_type': 'classification',\n",
            "  'signed': False})),\n",
            "]\n"
          ]
        }
      ]
    },
    {
      "cell_type": "code",
      "source": [
        "from sklearn.metrics import accuracy_score\n",
        "predictions = automl.predict(X_val)\n",
        "print(\"Accuracy score:\", accuracy_score(y_val, predictions))"
      ],
      "metadata": {
        "colab": {
          "base_uri": "https://localhost:8080/"
        },
        "id": "iNUiSWkccXVZ",
        "outputId": "54c282ba-0fd9-459a-a5bf-977fdafee6e4"
      },
      "execution_count": null,
      "outputs": [
        {
          "output_type": "stream",
          "name": "stdout",
          "text": [
            "Accuracy score: 0.9787234042553191\n"
          ]
        }
      ]
    },
    {
      "cell_type": "code",
      "source": [
        "from sklearn.metrics import classification_report\n",
        "Y_pred = automl.predict(X_val)\n",
        "print(classification_report(y_val, Y_pred))"
      ],
      "metadata": {
        "colab": {
          "base_uri": "https://localhost:8080/"
        },
        "id": "BPny5H5zccYg",
        "outputId": "f380f657-b378-4bf1-8aef-c47a1a5a161c"
      },
      "execution_count": null,
      "outputs": [
        {
          "output_type": "stream",
          "name": "stdout",
          "text": [
            "              precision    recall  f1-score   support\n",
            "\n",
            "           0       0.97      1.00      0.98       118\n",
            "           1       1.00      0.94      0.97        70\n",
            "\n",
            "    accuracy                           0.98       188\n",
            "   macro avg       0.98      0.97      0.98       188\n",
            "weighted avg       0.98      0.98      0.98       188\n",
            "\n"
          ]
        }
      ]
    },
    {
      "cell_type": "code",
      "source": [
        "run_key = list(automl.automl_.runhistory_.data.keys())[30]\n",
        "print(automl.automl_.runhistory_.ids_config[run_key.config_id])"
      ],
      "metadata": {
        "colab": {
          "base_uri": "https://localhost:8080/"
        },
        "id": "AFPfL1fA0Wj6",
        "outputId": "73b649a7-0fc0-49c4-d7b7-1d0492ca56b3"
      },
      "execution_count": 194,
      "outputs": [
        {
          "output_type": "stream",
          "name": "stdout",
          "text": [
            "Configuration:\n",
            "  balancing:strategy, Value: 'none'\n",
            "  classifier:__choice__, Value: 'liblinear_svc'\n",
            "  classifier:liblinear_svc:C, Value: 832.5744883902069\n",
            "  classifier:liblinear_svc:dual, Constant: 'False'\n",
            "  classifier:liblinear_svc:fit_intercept, Constant: 'True'\n",
            "  classifier:liblinear_svc:intercept_scaling, Constant: 1\n",
            "  classifier:liblinear_svc:loss, Value: 'squared_hinge'\n",
            "  classifier:liblinear_svc:multi_class, Constant: 'ovr'\n",
            "  classifier:liblinear_svc:penalty, Value: 'l2'\n",
            "  classifier:liblinear_svc:tol, Value: 0.015340961719445064\n",
            "  data_preprocessor:__choice__, Value: 'feature_type'\n",
            "  data_preprocessor:feature_type:categorical_transformer:categorical_encoding:__choice__, Value: 'one_hot_encoding'\n",
            "  data_preprocessor:feature_type:categorical_transformer:category_coalescence:__choice__, Value: 'no_coalescense'\n",
            "  data_preprocessor:feature_type:numerical_transformer:imputation:strategy, Value: 'median'\n",
            "  data_preprocessor:feature_type:numerical_transformer:rescaling:__choice__, Value: 'quantile_transformer'\n",
            "  data_preprocessor:feature_type:numerical_transformer:rescaling:quantile_transformer:n_quantiles, Value: 1419\n",
            "  data_preprocessor:feature_type:numerical_transformer:rescaling:quantile_transformer:output_distribution, Value: 'normal'\n",
            "  feature_preprocessor:__choice__, Value: 'liblinear_svc_preprocessor'\n",
            "  feature_preprocessor:liblinear_svc_preprocessor:C, Value: 0.13670616482315423\n",
            "  feature_preprocessor:liblinear_svc_preprocessor:dual, Constant: 'False'\n",
            "  feature_preprocessor:liblinear_svc_preprocessor:fit_intercept, Constant: 'True'\n",
            "  feature_preprocessor:liblinear_svc_preprocessor:intercept_scaling, Constant: 1\n",
            "  feature_preprocessor:liblinear_svc_preprocessor:loss, Value: 'squared_hinge'\n",
            "  feature_preprocessor:liblinear_svc_preprocessor:multi_class, Constant: 'ovr'\n",
            "  feature_preprocessor:liblinear_svc_preprocessor:penalty, Constant: 'l1'\n",
            "  feature_preprocessor:liblinear_svc_preprocessor:tol, Value: 0.033423225482940126\n",
            "\n"
          ]
        }
      ]
    },
    {
      "cell_type": "code",
      "source": [
        "print(\"Configuration ID:\", run_key.config_id)"
      ],
      "metadata": {
        "colab": {
          "base_uri": "https://localhost:8080/"
        },
        "id": "5zquWmk-2ByM",
        "outputId": "6978ad6f-aabf-46d9-a434-0750bdc54341"
      },
      "execution_count": 163,
      "outputs": [
        {
          "output_type": "stream",
          "name": "stdout",
          "text": [
            "Configuration ID: 33\n"
          ]
        }
      ]
    },
    {
      "cell_type": "code",
      "source": [
        "y_train.isnull().any()"
      ],
      "metadata": {
        "colab": {
          "base_uri": "https://localhost:8080/"
        },
        "id": "hWXCrZRUn-RI",
        "outputId": "fa393703-bd65-40e8-8e17-944c9a7dce17"
      },
      "execution_count": null,
      "outputs": [
        {
          "output_type": "execute_result",
          "data": {
            "text/plain": [
              "False"
            ]
          },
          "metadata": {},
          "execution_count": 56
        }
      ]
    },
    {
      "cell_type": "code",
      "source": [
        "X = X.fillna(method='ffill')\n",
        "y = y.fillna(method='ffill')"
      ],
      "metadata": {
        "id": "Q-pwD13doFZI"
      },
      "execution_count": null,
      "outputs": []
    },
    {
      "cell_type": "code",
      "source": [
        "from hpsklearn import HyperoptEstimator\n",
        "from hpsklearn import any_classifier\n",
        "from hpsklearn import any_preprocessing\n",
        "from hyperopt import tpe\n",
        "model = HyperoptEstimator(classifier=any_classifier('cla'), preprocessing=any_preprocessing('pre'), algo=tpe.suggest, max_evals=50, trial_timeout=30)\n",
        "# perform the search\n",
        "model.fit(X_train, y_train)"
      ],
      "metadata": {
        "colab": {
          "base_uri": "https://localhost:8080/"
        },
        "id": "X_11MXC9m9KF",
        "outputId": "c4a6179d-5931-422c-edce-644db0ad3108"
      },
      "execution_count": null,
      "outputs": [
        {
          "output_type": "stream",
          "name": "stdout",
          "text": [
            "100%|██████████| 1/1 [00:00<00:00,  4.74it/s, best loss: 0.051948051948051965]\n",
            "100%|██████████| 1/1 [00:00<00:00,  1.66it/s, best loss: 0.051948051948051965]\n",
            "100%|██████████| 1/1 [00:00<00:00,  5.84it/s, best loss: 0.051948051948051965]\n",
            "100%|██████████| 1/1 [00:00<00:00,  6.46it/s, best loss: 0.051948051948051965]\n",
            "100%|██████████| 1/1 [00:00<00:00,  5.56it/s, best loss: 0.051948051948051965]\n",
            "100%|██████████| 1/1 [00:00<00:00,  7.28it/s, best loss: 0.051948051948051965]\n",
            "100%|██████████| 1/1 [00:00<00:00,  6.74it/s, best loss: 0.012987012987012991]\n",
            "100%|██████████| 1/1 [00:01<00:00,  1.33s/it, best loss: 0.012987012987012991]\n",
            "100%|██████████| 1/1 [00:00<00:00,  8.02it/s, best loss: 0.012987012987012991]\n",
            "100%|██████████| 1/1 [00:00<00:00,  5.18it/s, best loss: 0.012987012987012991]\n",
            "100%|██████████| 1/1 [00:00<00:00,  5.57it/s, best loss: 0.012987012987012991]\n",
            "100%|██████████| 1/1 [00:03<00:00,  3.47s/it, best loss: 0.012987012987012991]\n",
            "100%|██████████| 1/1 [00:00<00:00,  3.53it/s, best loss: 0.012987012987012991]\n",
            "100%|██████████| 1/1 [00:00<00:00,  6.48it/s, best loss: 0.012987012987012991]\n",
            "100%|██████████| 1/1 [00:00<00:00,  5.92it/s, best loss: 0.012987012987012991]\n",
            "100%|██████████| 1/1 [00:00<00:00,  6.82it/s, best loss: 0.012987012987012991]\n",
            "100%|██████████| 1/1 [00:00<00:00,  6.80it/s, best loss: 0.012987012987012991]\n",
            "100%|██████████| 1/1 [00:00<00:00,  4.88it/s, best loss: 0.012987012987012991]\n",
            "100%|██████████| 1/1 [00:00<00:00,  7.04it/s, best loss: 0.012987012987012991]\n",
            "100%|██████████| 1/1 [00:00<00:00,  6.49it/s, best loss: 0.012987012987012991]\n",
            "100%|██████████| 1/1 [00:00<00:00,  2.16it/s, best loss: 0.012987012987012991]\n",
            "100%|██████████| 1/1 [00:03<00:00,  3.21s/it, best loss: 0.012987012987012991]\n",
            "100%|██████████| 1/1 [00:01<00:00,  1.27s/it, best loss: 0.012987012987012991]\n",
            "100%|██████████| 1/1 [00:00<00:00,  3.94it/s, best loss: 0.012987012987012991]\n",
            "100%|██████████| 1/1 [00:00<00:00,  1.61it/s, best loss: 0.012987012987012991]\n",
            "100%|██████████| 1/1 [00:00<00:00,  3.96it/s, best loss: 0.012987012987012991]\n",
            "100%|██████████| 1/1 [00:30<00:00, 30.24s/it, best loss: 0.012987012987012991]\n",
            "100%|██████████| 1/1 [00:01<00:00,  1.22s/it, best loss: 0.012987012987012991]\n",
            "100%|██████████| 1/1 [00:04<00:00,  4.79s/it, best loss: 0.012987012987012991]\n",
            "100%|██████████| 1/1 [00:00<00:00,  1.23it/s, best loss: 0.012987012987012991]\n",
            "100%|██████████| 1/1 [00:00<00:00,  5.19it/s, best loss: 0.012987012987012991]\n",
            "100%|██████████| 1/1 [00:11<00:00, 11.64s/it, best loss: 0.012987012987012991]\n",
            "100%|██████████| 1/1 [00:00<00:00,  4.71it/s, best loss: 0.012987012987012991]\n",
            "100%|██████████| 1/1 [00:00<00:00,  4.41it/s, best loss: 0.012987012987012991]\n",
            "100%|██████████| 1/1 [00:00<00:00,  4.91it/s, best loss: 0.012987012987012991]\n",
            "100%|██████████| 1/1 [00:00<00:00,  2.15it/s, best loss: 0.012987012987012991]\n",
            "100%|██████████| 1/1 [00:00<00:00,  4.48it/s, best loss: 0.012987012987012991]\n",
            "100%|██████████| 1/1 [00:00<00:00,  4.64it/s, best loss: 0.012987012987012991]\n",
            "100%|██████████| 1/1 [00:01<00:00,  1.87s/it, best loss: 0.012987012987012991]\n",
            "100%|██████████| 1/1 [00:02<00:00,  2.22s/it, best loss: 0.012987012987012991]\n",
            "100%|██████████| 1/1 [00:00<00:00,  4.87it/s, best loss: 0.012987012987012991]\n",
            "100%|██████████| 1/1 [00:00<00:00,  4.34it/s, best loss: 0.012987012987012991]\n",
            "100%|██████████| 1/1 [00:00<00:00,  1.63it/s, best loss: 0.012987012987012991]\n",
            "100%|██████████| 1/1 [00:00<00:00,  4.44it/s, best loss: 0.012987012987012991]\n",
            "100%|██████████| 1/1 [00:00<00:00,  4.40it/s, best loss: 0.012987012987012991]\n",
            "100%|██████████| 1/1 [00:00<00:00,  4.96it/s, best loss: 0.012987012987012991]\n",
            "100%|██████████| 1/1 [00:00<00:00,  1.90it/s, best loss: 0.012987012987012991]\n",
            "100%|██████████| 1/1 [00:00<00:00,  4.28it/s, best loss: 0.012987012987012991]\n",
            "100%|██████████| 1/1 [00:00<00:00,  3.31it/s, best loss: 0.012987012987012991]\n",
            "100%|██████████| 1/1 [00:00<00:00,  1.63it/s, best loss: 0.012987012987012991]\n"
          ]
        }
      ]
    },
    {
      "cell_type": "code",
      "source": [
        "print( model.best_model() )"
      ],
      "metadata": {
        "colab": {
          "base_uri": "https://localhost:8080/"
        },
        "id": "t_gWeRC-6TgC",
        "outputId": "7e4174a9-e731-4c8d-a840-4268ccd04122"
      },
      "execution_count": null,
      "outputs": [
        {
          "output_type": "stream",
          "name": "stdout",
          "text": [
            "{'learner': SGDClassifier(alpha=0.0003163855627170551, eta0=0.0069264319531390315,\n",
            "              l1_ratio=0.5759613577668121, learning_rate='constant',\n",
            "              max_iter=11093983.0, n_jobs=1, penalty='elasticnet',\n",
            "              power_t=0.8356139815111139, random_state=0,\n",
            "              tol=0.0018123785324411, verbose=False), 'preprocs': (MinMaxScaler(feature_range=(0.0, 1.0)),), 'ex_preprocs': ()}\n"
          ]
        }
      ]
    },
    {
      "cell_type": "code",
      "source": [
        "# summarize performance\n",
        "#acc = model.score(X_val, y_val)\n",
        "#acc\n",
        "Y_pred = model.predict(X_val)\n",
        "from sklearn.metrics import classification_report\n",
        "print(classification_report(y_val, Y_pred))"
      ],
      "metadata": {
        "id": "uTkc7pGpom9K",
        "outputId": "f2322c05-2c0a-473d-cdd3-c5944422ec3e",
        "colab": {
          "base_uri": "https://localhost:8080/"
        }
      },
      "execution_count": null,
      "outputs": [
        {
          "output_type": "stream",
          "name": "stdout",
          "text": [
            "              precision    recall  f1-score   support\n",
            "\n",
            "           0       0.97      1.00      0.98       118\n",
            "           1       1.00      0.94      0.97        70\n",
            "\n",
            "    accuracy                           0.98       188\n",
            "   macro avg       0.98      0.97      0.98       188\n",
            "weighted avg       0.98      0.98      0.98       188\n",
            "\n"
          ]
        }
      ]
    },
    {
      "cell_type": "code",
      "source": [
        "bmodel = model.best_model()\n",
        "bmodel = bmodel[\"learner\"]\n"
      ],
      "metadata": {
        "id": "_HgmcXKNgYOl"
      },
      "execution_count": null,
      "outputs": []
    },
    {
      "cell_type": "code",
      "source": [
        "bmodel"
      ],
      "metadata": {
        "colab": {
          "base_uri": "https://localhost:8080/"
        },
        "id": "_P-iVQ8czkvK",
        "outputId": "2b6a6f7b-e9a0-4fc3-e551-4169e1b0a7e4"
      },
      "execution_count": 152,
      "outputs": [
        {
          "output_type": "execute_result",
          "data": {
            "text/plain": [
              "ExtraTreesClassifier(bootstrap=True, criterion='entropy', max_depth=3,\n",
              "                     max_features=0.6545224287052555, n_estimators=607,\n",
              "                     n_jobs=1, random_state=4, verbose=False)"
            ]
          },
          "metadata": {},
          "execution_count": 152
        }
      ]
    },
    {
      "cell_type": "code",
      "source": [
        "from sklearn.preprocessing import MinMaxScaler\n",
        "from sklearn.model_selection import KFold\n",
        "from sklearn.metrics import mean_absolute_error\n",
        "from sklearn.metrics import roc_curve\n",
        "from sklearn.metrics import accuracy_score\n",
        "from sklearn.metrics import precision_score\n",
        "from sklearn.metrics import recall_score\n",
        "from sklearn.metrics import auc\n",
        "\n",
        "kf = KFold(n_splits=15,random_state=42,shuffle=True)\n",
        "\n",
        "\n",
        "accuracy_trains = []\n",
        "accuracy_tests = []\n",
        "precision_trains = []\n",
        "precision_tests = []\n",
        "recall_trains = []\n",
        "recall_tests = []\n",
        "\n",
        "\n",
        "n = kf.get_n_splits()\n",
        "for train_index, test_index in kf.split(X_train):\n",
        "    \n",
        "    X_train_c, X_test_c = X.iloc[train_index], X.iloc[test_index]\n",
        "    y_train_c, y_test_c = y[train_index], y[test_index]\n",
        "    \n",
        "    X_train_norm = X_train_c\n",
        "    X_test_norm = X_test_c\n",
        "    mmsca = MinMaxScaler(feature_range=(0.0, 1.0))\n",
        "    X_train_norm = mmsca.fit_transform(X_train_c)\n",
        "    X_test_norm = mmsca.fit_transform(X_test_c)\n",
        "    \n",
        "    bmodel.fit(X_train_norm,y_train_c)\n",
        "    y_train_pred = bmodel.predict(X_train_norm)\n",
        "    y_test_pred = bmodel.predict(X_test_norm)\n",
        "    \n",
        "    \n",
        "    precision_train = precision_score(y_train_c, y_train_pred)\n",
        "    precision_trains.append(precision_train)\n",
        "    \n",
        "    precision_test = precision_score(y_test_c, y_test_pred)\n",
        "    precision_tests.append(precision_test)\n",
        "    \n",
        "    recall_train = recall_score(y_train_c, y_train_pred)\n",
        "    recall_trains.append(recall_train)\n",
        "    \n",
        "    recall_test = recall_score(y_test_c, y_test_pred)\n",
        "    recall_tests.append(recall_test)\n",
        "    \n",
        "    \n",
        "    accuracy_train = accuracy_score(y_train_c, y_train_pred)\n",
        "    accuracy_trains.append(accuracy_train)\n",
        "    \n",
        "    accuracy_test = accuracy_score(y_test_c, y_test_pred)\n",
        "    accuracy_tests.append(accuracy_test)"
      ],
      "metadata": {
        "id": "VxFWPkVMh7CA"
      },
      "execution_count": null,
      "outputs": []
    },
    {
      "cell_type": "code",
      "source": [
        "def plot_metrics(folds,metrics_train,metrics_test, ylabel):\n",
        "    plt.plot(folds, metrics_train, 'o-', color='green', label='train')\n",
        "    plt.plot(folds, metrics_test, 'o-', color='red', label='test')\n",
        "    plt.legend()\n",
        "    plt.grid()\n",
        "    plt.xlabel('Number of fold')\n",
        "    plt.ylabel(ylabel)\n",
        "    plt.show()"
      ],
      "metadata": {
        "id": "r9h3VA59mczn"
      },
      "execution_count": null,
      "outputs": []
    },
    {
      "cell_type": "code",
      "source": [
        "folds = range(1, kf.get_n_splits() + 1)\n",
        "plot_metrics(folds, accuracy_trains,accuracy_tests, 'Accuracy')\n",
        "plot_metrics(folds, precision_trains,precision_tests, 'Precision')\n",
        "plot_metrics(folds, recall_trains,recall_tests, 'Recall')"
      ],
      "metadata": {
        "colab": {
          "base_uri": "https://localhost:8080/",
          "height": 803
        },
        "id": "qPHLRhC7mfDW",
        "outputId": "a33cfd6b-be65-4cc7-9402-6e1a7cedfc33"
      },
      "execution_count": null,
      "outputs": [
        {
          "output_type": "display_data",
          "data": {
            "image/png": "[encoded data removed]",
            "text/plain": [
              "<Figure size 432x288 with 1 Axes>"
            ]
          },
          "metadata": {
            "needs_background": "light"
          }
        },
        {
          "output_type": "display_data",
          "data": {
            "image/png": "[encoded data removed]",
            "text/plain": [
              "<Figure size 432x288 with 1 Axes>"
            ]
          },
          "metadata": {
            "needs_background": "light"
          }
        },
        {
          "output_type": "display_data",
          "data": {
            "image/png": "[encoded data removed]",
            "text/plain": [
              "<Figure size 432x288 with 1 Axes>"
            ]
          },
          "metadata": {
            "needs_background": "light"
          }
        }
      ]
    },
    {
      "cell_type": "code",
      "source": [
        "from sklearn.ensemble import RandomForestClassifier \n",
        "from sklearn import metrics\n",
        "from sklearn.model_selection import cross_val_score\n",
        "from sklearn.preprocessing import StandardScaler \n",
        "from hyperopt import tpe, hp, fmin, STATUS_OK,Trials\n",
        "from hyperopt.pyll.base import scope"
      ],
      "metadata": {
        "id": "mFnT20TNzR8U"
      },
      "execution_count": null,
      "outputs": []
    },
    {
      "cell_type": "code",
      "source": [
        "# standardize the feature variables \n",
        "\n",
        "scaler = StandardScaler()\n",
        "X_scaled = scaler.fit_transform(X)"
      ],
      "metadata": {
        "id": "ZzN-OskAzCGv"
      },
      "execution_count": null,
      "outputs": []
    },
    {
      "cell_type": "code",
      "source": [
        "# create train and test data\n",
        "X_train,X_val,y_train,y_val = train_test_split(X_scaled,y, stratify=y,test_size=0.33, random_state=42)"
      ],
      "metadata": {
        "id": "b2jTgf6F1Zpu"
      },
      "execution_count": null,
      "outputs": []
    },
    {
      "cell_type": "code",
      "source": [
        "# define hyperparameter space\n",
        "space = {\n",
        "    \"n_estimators\": hp.choice(\"n_estimators\", [100, 200, 300, 400,500,600]),\n",
        "    \"max_depth\": hp.quniform(\"max_depth\", 1, 15,1),\n",
        "    \"criterion\": hp.choice(\"criterion\", [\"gini\", \"entropy\"]),\n",
        "}"
      ],
      "metadata": {
        "id": "P81um3kRzJel"
      },
      "execution_count": null,
      "outputs": []
    },
    {
      "cell_type": "code",
      "source": [
        "# define objective function\n",
        "\n",
        "def hyperparameter_tuning(params):\n",
        "    clf = RandomForestClassifier(**params,n_jobs=-1)\n",
        "    acc = cross_val_score(clf, X_train, y_train,scoring=\"accuracy\").mean()\n",
        "    return {\"loss\": -acc, \"status\": STATUS_OK}"
      ],
      "metadata": {
        "id": "vSGfQkfTzVX4"
      },
      "execution_count": null,
      "outputs": []
    },
    {
      "cell_type": "code",
      "source": [
        "# Initialize trials object\n",
        "trials = Trials()\n",
        "\n",
        "best = fmin(\n",
        "    fn=hyperparameter_tuning,\n",
        "    space = space, \n",
        "    algo=tpe.suggest, \n",
        "    max_evals=100, \n",
        "    trials=trials\n",
        ")\n",
        "\n",
        "print(\"Best: {}\".format(best))"
      ],
      "metadata": {
        "colab": {
          "base_uri": "https://localhost:8080/"
        },
        "id": "OTKRaQbnzbws",
        "outputId": "1cf37022-9c4c-4c37-c254-872f730aac9a"
      },
      "execution_count": null,
      "outputs": [
        {
          "output_type": "stream",
          "name": "stdout",
          "text": [
            "100%|██████████| 100/100 [07:39<00:00,  4.59s/it, best loss: -0.9658236500341764]\n",
            "Best: {'criterion': 1, 'max_depth': 10.0, 'n_estimators': 0}\n"
          ]
        }
      ]
    },
    {
      "cell_type": "code",
      "source": [
        "from hpsklearn import HyperoptEstimator\n",
        "from hpsklearn import any_classifier\n",
        "from hpsklearn import any_preprocessing\n",
        "from hyperopt import tpe\n",
        "hpest = HyperoptEstimator(classifier=any_classifier('cla'), preprocessing=any_preprocessing('pre'), algo=tpe.suggest, max_evals=150, trial_timeout=30)\n",
        "# perform the search\n",
        "hpest.fit(X_train, y_train)"
      ],
      "metadata": {
        "colab": {
          "base_uri": "https://localhost:8080/"
        },
        "id": "DrCBjt7q7KBp",
        "outputId": "32a8e38b-3b85-4d76-ff8b-8342e234e34f"
      },
      "execution_count": null,
      "outputs": [
        {
          "output_type": "stream",
          "name": "stdout",
          "text": [
            "100%|██████████| 1/1 [00:00<00:00,  1.98it/s, best loss: 0.06493506493506496]\n",
            "100%|██████████| 1/1 [00:00<00:00,  3.73it/s, best loss: 0.06493506493506496]\n",
            "100%|██████████| 1/1 [00:01<00:00,  1.12s/it, best loss: 0.06493506493506496]\n",
            "100%|██████████| 1/1 [00:00<00:00,  5.17it/s, best loss: 0.06493506493506496]\n",
            "100%|██████████| 1/1 [00:00<00:00,  5.83it/s, best loss: 0.06493506493506496]\n",
            "100%|██████████| 1/1 [00:00<00:00,  5.91it/s, best loss: 0.038961038961038974]\n",
            "100%|██████████| 1/1 [00:00<00:00,  1.15it/s, best loss: 0.038961038961038974]\n",
            "100%|██████████| 1/1 [00:00<00:00,  3.88it/s, best loss: 0.038961038961038974]\n",
            "100%|██████████| 1/1 [00:00<00:00,  1.79it/s, best loss: 0.038961038961038974]\n",
            "100%|██████████| 1/1 [00:00<00:00,  6.44it/s, best loss: 0.038961038961038974]\n",
            "100%|██████████| 1/1 [00:00<00:00,  1.99it/s, best loss: 0.038961038961038974]\n",
            "100%|██████████| 1/1 [00:00<00:00,  5.12it/s, best loss: 0.038961038961038974]\n",
            "100%|██████████| 1/1 [00:10<00:00, 10.67s/it, best loss: 0.038961038961038974]\n",
            "100%|██████████| 1/1 [00:00<00:00,  1.56it/s, best loss: 0.038961038961038974]\n",
            "100%|██████████| 1/1 [00:00<00:00,  6.81it/s, best loss: 0.025974025974025983]\n",
            "100%|██████████| 1/1 [00:00<00:00,  6.06it/s, best loss: 0.025974025974025983]\n",
            "100%|██████████| 1/1 [00:01<00:00,  1.06s/it, best loss: 0.025974025974025983]\n",
            "100%|██████████| 1/1 [00:00<00:00,  1.99it/s, best loss: 0.025974025974025983]\n",
            "100%|██████████| 1/1 [00:00<00:00,  3.08it/s, best loss: 0.025974025974025983]\n",
            "100%|██████████| 1/1 [00:00<00:00,  7.05it/s, best loss: 0.025974025974025983]\n",
            "100%|██████████| 1/1 [00:00<00:00,  4.48it/s, best loss: 0.025974025974025983]\n",
            "100%|██████████| 1/1 [00:00<00:00,  4.18it/s, best loss: 0.025974025974025983]\n",
            "100%|██████████| 1/1 [00:00<00:00,  4.49it/s, best loss: 0.025974025974025983]\n",
            "100%|██████████| 1/1 [00:00<00:00,  1.88it/s, best loss: 0.025974025974025983]\n",
            "100%|██████████| 1/1 [00:00<00:00,  4.65it/s, best loss: 0.025974025974025983]\n",
            "100%|██████████| 1/1 [00:00<00:00,  3.57it/s, best loss: 0.025974025974025983]\n",
            "100%|██████████| 1/1 [00:00<00:00,  3.56it/s, best loss: 0.025974025974025983]\n",
            "100%|██████████| 1/1 [00:00<00:00,  4.21it/s, best loss: 0.025974025974025983]\n",
            "100%|██████████| 1/1 [00:00<00:00,  4.55it/s, best loss: 0.025974025974025983]\n",
            "100%|██████████| 1/1 [00:00<00:00,  4.32it/s, best loss: 0.025974025974025983]\n",
            "100%|██████████| 1/1 [00:02<00:00,  2.38s/it, best loss: 0.025974025974025983]\n",
            "100%|██████████| 1/1 [00:00<00:00,  3.83it/s, best loss: 0.025974025974025983]\n",
            "100%|██████████| 1/1 [00:02<00:00,  2.36s/it, best loss: 0.025974025974025983]\n",
            "100%|██████████| 1/1 [00:00<00:00,  4.26it/s, best loss: 0.025974025974025983]\n",
            "100%|██████████| 1/1 [00:00<00:00,  4.83it/s, best loss: 0.025974025974025983]\n",
            "100%|██████████| 1/1 [00:00<00:00,  3.51it/s, best loss: 0.025974025974025983]\n",
            "100%|██████████| 1/1 [00:00<00:00,  4.03it/s, best loss: 0.025974025974025983]\n",
            "100%|██████████| 1/1 [00:00<00:00,  3.27it/s, best loss: 0.025974025974025983]\n",
            "100%|██████████| 1/1 [00:00<00:00,  4.39it/s, best loss: 0.025974025974025983]\n",
            "100%|██████████| 1/1 [00:00<00:00,  3.70it/s, best loss: 0.025974025974025983]\n",
            "100%|██████████| 1/1 [00:00<00:00,  4.37it/s, best loss: 0.025974025974025983]\n",
            "100%|██████████| 1/1 [00:00<00:00,  1.73it/s, best loss: 0.025974025974025983]\n",
            "100%|██████████| 1/1 [00:00<00:00,  3.98it/s, best loss: 0.025974025974025983]\n",
            "100%|██████████| 1/1 [00:00<00:00,  4.43it/s, best loss: 0.025974025974025983]\n",
            "100%|██████████| 1/1 [00:00<00:00,  3.76it/s, best loss: 0.025974025974025983]\n",
            "100%|██████████| 1/1 [00:00<00:00,  3.92it/s, best loss: 0.025974025974025983]\n",
            "100%|██████████| 1/1 [00:00<00:00,  1.45it/s, best loss: 0.025974025974025983]\n",
            "100%|██████████| 1/1 [00:04<00:00,  4.00s/it, best loss: 0.025974025974025983]\n",
            "100%|██████████| 1/1 [00:00<00:00,  1.90it/s, best loss: 0.025974025974025983]\n",
            "100%|██████████| 1/1 [00:13<00:00, 13.22s/it, best loss: 0.025974025974025983]\n",
            "100%|██████████| 1/1 [00:00<00:00,  3.90it/s, best loss: 0.025974025974025983]\n",
            "100%|██████████| 1/1 [00:00<00:00,  4.14it/s, best loss: 0.025974025974025983]\n",
            "100%|██████████| 1/1 [00:04<00:00,  4.06s/it, best loss: 0.025974025974025983]\n",
            "100%|██████████| 1/1 [00:00<00:00,  4.46it/s, best loss: 0.025974025974025983]\n",
            "100%|██████████| 1/1 [00:02<00:00,  2.27s/it, best loss: 0.025974025974025983]\n",
            "100%|██████████| 1/1 [00:00<00:00,  3.86it/s, best loss: 0.025974025974025983]\n",
            "100%|██████████| 1/1 [00:00<00:00,  1.13it/s, best loss: 0.025974025974025983]\n",
            "100%|██████████| 1/1 [00:00<00:00,  4.13it/s, best loss: 0.025974025974025983]\n",
            "100%|██████████| 1/1 [00:01<00:00,  1.04s/it, best loss: 0.025974025974025983]\n",
            "100%|██████████| 1/1 [00:00<00:00,  1.44it/s, best loss: 0.025974025974025983]\n",
            "100%|██████████| 1/1 [00:00<00:00,  4.22it/s, best loss: 0.025974025974025983]\n",
            "100%|██████████| 1/1 [00:03<00:00,  3.38s/it, best loss: 0.025974025974025983]\n",
            "100%|██████████| 1/1 [00:00<00:00,  3.74it/s, best loss: 0.025974025974025983]\n",
            "100%|██████████| 1/1 [00:00<00:00,  1.77it/s, best loss: 0.025974025974025983]\n",
            "100%|██████████| 1/1 [00:00<00:00,  3.31it/s, best loss: 0.025974025974025983]\n",
            "100%|██████████| 1/1 [00:00<00:00,  4.03it/s, best loss: 0.025974025974025983]\n",
            "100%|██████████| 1/1 [00:00<00:00,  4.05it/s, best loss: 0.025974025974025983]\n",
            "100%|██████████| 1/1 [00:00<00:00,  1.62it/s, best loss: 0.025974025974025983]\n",
            "100%|██████████| 1/1 [00:00<00:00,  3.83it/s, best loss: 0.025974025974025983]\n",
            "100%|██████████| 1/1 [00:00<00:00,  4.18it/s, best loss: 0.025974025974025983]\n",
            "100%|██████████| 1/1 [00:00<00:00,  4.50it/s, best loss: 0.025974025974025983]\n",
            "100%|██████████| 1/1 [00:00<00:00,  4.01it/s, best loss: 0.025974025974025983]\n",
            "100%|██████████| 1/1 [00:00<00:00,  4.32it/s, best loss: 0.025974025974025983]\n",
            "100%|██████████| 1/1 [00:00<00:00,  4.51it/s, best loss: 0.025974025974025983]\n",
            "100%|██████████| 1/1 [00:00<00:00,  1.81it/s, best loss: 0.025974025974025983]\n",
            "100%|██████████| 1/1 [00:00<00:00,  1.51it/s, best loss: 0.025974025974025983]\n",
            "100%|██████████| 1/1 [00:05<00:00,  5.57s/it, best loss: 0.025974025974025983]\n",
            "100%|██████████| 1/1 [00:00<00:00,  3.85it/s, best loss: 0.025974025974025983]\n",
            "100%|██████████| 1/1 [00:00<00:00,  1.78it/s, best loss: 0.025974025974025983]\n",
            "100%|██████████| 1/1 [00:00<00:00,  4.21it/s, best loss: 0.025974025974025983]\n",
            "100%|██████████| 1/1 [00:00<00:00,  3.67it/s, best loss: 0.012987012987012991]\n",
            "100%|██████████| 1/1 [00:00<00:00,  3.69it/s, best loss: 0.012987012987012991]\n",
            "100%|██████████| 1/1 [00:00<00:00,  1.59it/s, best loss: 0.012987012987012991]\n",
            "100%|██████████| 1/1 [00:00<00:00,  4.41it/s, best loss: 0.012987012987012991]\n",
            "100%|██████████| 1/1 [00:00<00:00,  4.11it/s, best loss: 0.012987012987012991]\n",
            "100%|██████████| 1/1 [00:00<00:00,  2.60it/s, best loss: 0.012987012987012991]\n",
            "100%|██████████| 1/1 [00:01<00:00,  1.27s/it, best loss: 0.012987012987012991]\n",
            "100%|██████████| 1/1 [00:00<00:00,  4.29it/s, best loss: 0.012987012987012991]\n",
            "100%|██████████| 1/1 [00:00<00:00,  1.48it/s, best loss: 0.012987012987012991]\n",
            "100%|██████████| 1/1 [00:00<00:00,  1.84it/s, best loss: 0.012987012987012991]\n",
            "100%|██████████| 1/1 [00:00<00:00,  1.80it/s, best loss: 0.012987012987012991]\n",
            "100%|██████████| 1/1 [00:01<00:00,  1.01s/it, best loss: 0.012987012987012991]\n",
            "100%|██████████| 1/1 [00:00<00:00,  4.39it/s, best loss: 0.012987012987012991]\n",
            "100%|██████████| 1/1 [00:00<00:00,  1.47it/s, best loss: 0.012987012987012991]\n",
            "100%|██████████| 1/1 [00:02<00:00,  2.02s/it, best loss: 0.012987012987012991]\n",
            "100%|██████████| 1/1 [00:00<00:00,  3.77it/s, best loss: 0.012987012987012991]\n",
            "100%|██████████| 1/1 [00:00<00:00,  3.37it/s, best loss: 0.012987012987012991]\n",
            "100%|██████████| 1/1 [00:00<00:00,  2.81it/s, best loss: 0.012987012987012991]\n",
            "100%|██████████| 1/1 [00:00<00:00,  3.26it/s, best loss: 0.012987012987012991]\n",
            "100%|██████████| 1/1 [00:00<00:00,  3.05it/s, best loss: 0.012987012987012991]\n",
            "100%|██████████| 1/1 [00:00<00:00,  1.50it/s, best loss: 0.012987012987012991]\n",
            "100%|██████████| 1/1 [00:01<00:00,  1.22s/it, best loss: 0.012987012987012991]\n",
            "100%|██████████| 1/1 [00:00<00:00,  3.73it/s, best loss: 0.012987012987012991]\n",
            "100%|██████████| 1/1 [00:00<00:00,  3.21it/s, best loss: 0.012987012987012991]\n",
            "100%|██████████| 1/1 [00:00<00:00,  3.93it/s, best loss: 0.012987012987012991]\n",
            "100%|██████████| 1/1 [00:00<00:00,  4.28it/s, best loss: 0.012987012987012991]\n",
            "100%|██████████| 1/1 [00:01<00:00,  1.41s/it, best loss: 0.012987012987012991]\n",
            "100%|██████████| 1/1 [00:01<00:00,  1.05s/it, best loss: 0.012987012987012991]\n",
            "100%|██████████| 1/1 [00:00<00:00,  3.57it/s, best loss: 0.012987012987012991]\n",
            "100%|██████████| 1/1 [00:00<00:00,  3.62it/s, best loss: 0.012987012987012991]\n",
            "100%|██████████| 1/1 [00:01<00:00,  1.16s/it, best loss: 0.012987012987012991]\n",
            "100%|██████████| 1/1 [00:01<00:00,  1.75s/it, best loss: 0.012987012987012991]\n",
            "100%|██████████| 1/1 [00:00<00:00,  3.91it/s, best loss: 0.012987012987012991]\n",
            "100%|██████████| 1/1 [00:00<00:00,  2.32it/s, best loss: 0.012987012987012991]\n",
            "100%|██████████| 1/1 [00:01<00:00,  1.65s/it, best loss: 0.012987012987012991]\n",
            "100%|██████████| 1/1 [00:00<00:00,  2.17it/s, best loss: 0.012987012987012991]\n",
            "100%|██████████| 1/1 [00:00<00:00,  4.23it/s, best loss: 0.012987012987012991]\n",
            "100%|██████████| 1/1 [00:00<00:00,  2.96it/s, best loss: 0.012987012987012991]\n",
            "100%|██████████| 1/1 [00:00<00:00,  3.58it/s, best loss: 0.012987012987012991]\n",
            "100%|██████████| 1/1 [00:00<00:00,  4.02it/s, best loss: 0.012987012987012991]\n",
            "100%|██████████| 1/1 [00:00<00:00,  3.02it/s, best loss: 0.012987012987012991]\n",
            "100%|██████████| 1/1 [00:00<00:00,  2.08it/s, best loss: 0.012987012987012991]\n",
            "100%|██████████| 1/1 [00:00<00:00,  1.52it/s, best loss: 0.012987012987012991]\n",
            "100%|██████████| 1/1 [00:00<00:00,  2.61it/s, best loss: 0.012987012987012991]\n",
            "100%|██████████| 1/1 [00:00<00:00,  2.95it/s, best loss: 0.012987012987012991]\n",
            "100%|██████████| 1/1 [00:00<00:00,  3.23it/s, best loss: 0.012987012987012991]\n",
            "100%|██████████| 1/1 [00:00<00:00,  3.28it/s, best loss: 0.012987012987012991]\n",
            "100%|██████████| 1/1 [00:00<00:00,  3.87it/s, best loss: 0.012987012987012991]\n",
            "100%|██████████| 1/1 [00:01<00:00,  1.34s/it, best loss: 0.012987012987012991]\n",
            "100%|██████████| 1/1 [00:00<00:00,  3.88it/s, best loss: 0.012987012987012991]\n",
            "100%|██████████| 1/1 [00:00<00:00,  1.04it/s, best loss: 0.012987012987012991]\n",
            "100%|██████████| 1/1 [00:00<00:00,  1.27it/s, best loss: 0.012987012987012991]\n",
            "100%|██████████| 1/1 [00:00<00:00,  3.55it/s, best loss: 0.012987012987012991]\n",
            "100%|██████████| 1/1 [00:00<00:00,  1.41it/s, best loss: 0.012987012987012991]\n",
            "100%|██████████| 1/1 [00:00<00:00,  3.51it/s, best loss: 0.012987012987012991]\n",
            "100%|██████████| 1/1 [00:05<00:00,  5.10s/it, best loss: 0.012987012987012991]\n",
            "100%|██████████| 1/1 [00:00<00:00,  4.07it/s, best loss: 0.012987012987012991]\n",
            "100%|██████████| 1/1 [00:02<00:00,  2.37s/it, best loss: 0.012987012987012991]\n",
            "100%|██████████| 1/1 [00:00<00:00,  3.61it/s, best loss: 0.012987012987012991]\n",
            "100%|██████████| 1/1 [00:00<00:00,  3.15it/s, best loss: 0.012987012987012991]\n",
            "100%|██████████| 1/1 [00:00<00:00,  3.17it/s, best loss: 0.012987012987012991]\n",
            "100%|██████████| 1/1 [00:00<00:00,  2.59it/s, best loss: 0.012987012987012991]\n",
            "100%|██████████| 1/1 [00:00<00:00,  3.30it/s, best loss: 0.012987012987012991]\n",
            "100%|██████████| 1/1 [00:00<00:00,  3.71it/s, best loss: 0.012987012987012991]\n",
            "100%|██████████| 1/1 [00:02<00:00,  2.91s/it, best loss: 0.012987012987012991]\n",
            "100%|██████████| 1/1 [00:00<00:00,  4.13it/s, best loss: 0.012987012987012991]\n",
            "100%|██████████| 1/1 [00:00<00:00,  3.99it/s, best loss: 0.012987012987012991]\n",
            "100%|██████████| 1/1 [00:00<00:00,  4.06it/s, best loss: 0.012987012987012991]\n",
            "100%|██████████| 1/1 [00:00<00:00,  1.75it/s, best loss: 0.012987012987012991]\n",
            "100%|██████████| 1/1 [00:00<00:00,  4.15it/s, best loss: 0.012987012987012991]\n"
          ]
        }
      ]
    },
    {
      "cell_type": "code",
      "source": [
        "print( hpest.best_model() )"
      ],
      "metadata": {
        "colab": {
          "base_uri": "https://localhost:8080/"
        },
        "id": "iRBbw6Xi77dT",
        "outputId": "579a427d-8f9a-4ce8-e4f2-8f78aeddeaf6"
      },
      "execution_count": null,
      "outputs": [
        {
          "output_type": "stream",
          "name": "stdout",
          "text": [
            "{'learner': SGDClassifier(alpha=0.018709741728706902, eta0=0.00010567997637235681,\n",
            "              l1_ratio=0.1691656815660722, learning_rate='constant',\n",
            "              max_iter=195827545.0, n_jobs=1, penalty='l1',\n",
            "              power_t=0.4495351627489859, random_state=2,\n",
            "              tol=9.165066634427971e-05, verbose=False), 'preprocs': (StandardScaler(with_mean=False),), 'ex_preprocs': ()}\n"
          ]
        }
      ]
    },
    {
      "cell_type": "code",
      "source": [
        "Y_pred = hpest.predict(X_val)\n",
        "from sklearn.metrics import classification_report\n",
        "print(classification_report(y_val, Y_pred))"
      ],
      "metadata": {
        "colab": {
          "base_uri": "https://localhost:8080/"
        },
        "id": "56S9QYN38KDW",
        "outputId": "9edf323f-143d-4e08-c1bb-45c1b94941a4"
      },
      "execution_count": null,
      "outputs": [
        {
          "output_type": "stream",
          "name": "stdout",
          "text": [
            "              precision    recall  f1-score   support\n",
            "\n",
            "           0       0.94      1.00      0.97       118\n",
            "           1       1.00      0.90      0.95        70\n",
            "\n",
            "    accuracy                           0.96       188\n",
            "   macro avg       0.97      0.95      0.96       188\n",
            "weighted avg       0.96      0.96      0.96       188\n",
            "\n"
          ]
        }
      ]
    },
    {
      "cell_type": "code",
      "source": [
        "!pip install scikit-optimize"
      ],
      "metadata": {
        "colab": {
          "base_uri": "https://localhost:8080/"
        },
        "id": "ZxpGSc7-O-te",
        "outputId": "a6af3a87-c030-4a9b-b374-a2fa7e34ab68"
      },
      "execution_count": null,
      "outputs": [
        {
          "output_type": "stream",
          "name": "stdout",
          "text": [
            "Collecting scikit-optimize\n",
            "  Downloading scikit_optimize-0.9.0-py2.py3-none-any.whl (100 kB)\n",
            "\u001b[?25l\r\u001b[K     |███▎                            | 10 kB 23.0 MB/s eta 0:00:01\r\u001b[K     |██████▌                         | 20 kB 27.0 MB/s eta 0:00:01\r\u001b[K     |█████████▉                      | 30 kB 21.7 MB/s eta 0:00:01\r\u001b[K     |█████████████                   | 40 kB 17.1 MB/s eta 0:00:01\r\u001b[K     |████████████████▍               | 51 kB 10.1 MB/s eta 0:00:01\r\u001b[K     |███████████████████▋            | 61 kB 10.7 MB/s eta 0:00:01\r\u001b[K     |██████████████████████▉         | 71 kB 9.6 MB/s eta 0:00:01\r\u001b[K     |██████████████████████████▏     | 81 kB 10.4 MB/s eta 0:00:01\r\u001b[K     |█████████████████████████████▍  | 92 kB 11.2 MB/s eta 0:00:01\r\u001b[K     |████████████████████████████████| 100 kB 5.7 MB/s \n",
            "\u001b[?25hCollecting pyaml>=16.9\n",
            "  Downloading pyaml-21.10.1-py2.py3-none-any.whl (24 kB)\n",
            "Requirement already satisfied: scikit-learn>=0.20.0 in /usr/local/lib/python3.7/dist-packages (from scikit-optimize) (0.24.2)\n",
            "Requirement already satisfied: numpy>=1.13.3 in /usr/local/lib/python3.7/dist-packages (from scikit-optimize) (1.19.5)\n",
            "Requirement already satisfied: joblib>=0.11 in /usr/local/lib/python3.7/dist-packages (from scikit-optimize) (1.1.0)\n",
            "Requirement already satisfied: scipy>=0.19.1 in /usr/local/lib/python3.7/dist-packages (from scikit-optimize) (1.7.3)\n",
            "Requirement already satisfied: PyYAML in /usr/local/lib/python3.7/dist-packages (from pyaml>=16.9->scikit-optimize) (3.13)\n",
            "Requirement already satisfied: threadpoolctl>=2.0.0 in /usr/local/lib/python3.7/dist-packages (from scikit-learn>=0.20.0->scikit-optimize) (3.0.0)\n",
            "Installing collected packages: pyaml, scikit-optimize\n",
            "Successfully installed pyaml-21.10.1 scikit-optimize-0.9.0\n"
          ]
        }
      ]
    },
    {
      "cell_type": "code",
      "source": [
        "from skopt import BayesSearchCV\n",
        "from skopt.space import Real, Categorical, Integer\n",
        "from sklearn.ensemble import GradientBoostingClassifier\n",
        "from sklearn.metrics import roc_auc_score\n",
        "\n",
        "N_ITER = 54\n",
        "N_JOBS = 1\n",
        "N_ITER_NO_CHANGE = 100\n",
        "RANDOM_STATE = 10\n",
        "SCORING_METRIC = 'roc_auc'\n",
        "K_FOLDS = 10\n",
        "hyper_parameters = {\n",
        "        'n_estimators': Integer(50, 300),\n",
        "        'max_depth': Integer(3, 10),\n",
        "        'min_samples_split': Integer(2, 300),\n",
        "        'learning_rate': Real(3e-6, 3e-1,prior='log-uniform'),     \n",
        "        'max_features': Categorical(['sqrt', None]),\n",
        "}\n",
        "search_space = BayesSearchCV(\n",
        "    estimator=GradientBoostingClassifier(\n",
        "        n_iter_no_change=N_ITER_NO_CHANGE, \n",
        "        random_state=RANDOM_STATE\n",
        "    ),\n",
        "    search_spaces=hyper_parameters,\n",
        "    scoring=SCORING_METRIC,\n",
        "    cv=K_FOLDS,\n",
        "    n_iter=N_ITER,\n",
        "    random_state=RANDOM_STATE,\n",
        "    return_train_score=True,\n",
        "    verbose = 1,\n",
        "    n_jobs=N_JOBS\n",
        ")\n",
        "# executes bayesian optimization\n",
        "_ = search_space.fit(X_train, y_train)\n",
        "\n",
        "y_pred = search_space.best_estimator_.predict(X_train)\n",
        "y_pred_prob = search_space.best_estimator_.predict_proba(X_train)[:,1]\n",
        "y_pred_test = search_space.best_estimator_.predict_proba(X_val)[:,1]\n",
        "\n",
        "# model can be saved, used for predictions or scoring\n",
        "print( \n",
        "    'Best Training Score: ', search_space.cv_results_['mean_train_score'][search_space.best_index_], \n",
        "    '\\nBest Test Score: ', search_space.best_score_,\n",
        "    '\\nHold Out Test Score: ', roc_auc_score(y_val, y_pred_test)\n",
        ")"
      ],
      "metadata": {
        "colab": {
          "base_uri": "https://localhost:8080/"
        },
        "id": "j1qz1dirO4fy",
        "outputId": "a291df66-e88f-4fed-9fd5-3bb3d8a88416"
      },
      "execution_count": null,
      "outputs": [
        {
          "output_type": "stream",
          "name": "stdout",
          "text": [
            "Fitting 10 folds for each of 1 candidates, totalling 10 fits\n",
            "Fitting 10 folds for each of 1 candidates, totalling 10 fits\n",
            "Fitting 10 folds for each of 1 candidates, totalling 10 fits\n",
            "Fitting 10 folds for each of 1 candidates, totalling 10 fits\n",
            "Fitting 10 folds for each of 1 candidates, totalling 10 fits\n",
            "Fitting 10 folds for each of 1 candidates, totalling 10 fits\n",
            "Fitting 10 folds for each of 1 candidates, totalling 10 fits\n",
            "Fitting 10 folds for each of 1 candidates, totalling 10 fits\n",
            "Fitting 10 folds for each of 1 candidates, totalling 10 fits\n",
            "Fitting 10 folds for each of 1 candidates, totalling 10 fits\n",
            "Fitting 10 folds for each of 1 candidates, totalling 10 fits\n",
            "Fitting 10 folds for each of 1 candidates, totalling 10 fits\n",
            "Fitting 10 folds for each of 1 candidates, totalling 10 fits\n",
            "Fitting 10 folds for each of 1 candidates, totalling 10 fits\n",
            "Fitting 10 folds for each of 1 candidates, totalling 10 fits\n",
            "Fitting 10 folds for each of 1 candidates, totalling 10 fits\n",
            "Fitting 10 folds for each of 1 candidates, totalling 10 fits\n",
            "Fitting 10 folds for each of 1 candidates, totalling 10 fits\n",
            "Fitting 10 folds for each of 1 candidates, totalling 10 fits\n",
            "Fitting 10 folds for each of 1 candidates, totalling 10 fits\n",
            "Fitting 10 folds for each of 1 candidates, totalling 10 fits\n",
            "Fitting 10 folds for each of 1 candidates, totalling 10 fits\n",
            "Fitting 10 folds for each of 1 candidates, totalling 10 fits\n",
            "Fitting 10 folds for each of 1 candidates, totalling 10 fits\n",
            "Fitting 10 folds for each of 1 candidates, totalling 10 fits\n",
            "Fitting 10 folds for each of 1 candidates, totalling 10 fits\n",
            "Fitting 10 folds for each of 1 candidates, totalling 10 fits\n",
            "Fitting 10 folds for each of 1 candidates, totalling 10 fits\n",
            "Fitting 10 folds for each of 1 candidates, totalling 10 fits\n",
            "Fitting 10 folds for each of 1 candidates, totalling 10 fits\n",
            "Fitting 10 folds for each of 1 candidates, totalling 10 fits\n",
            "Fitting 10 folds for each of 1 candidates, totalling 10 fits\n",
            "Fitting 10 folds for each of 1 candidates, totalling 10 fits\n",
            "Fitting 10 folds for each of 1 candidates, totalling 10 fits\n",
            "Fitting 10 folds for each of 1 candidates, totalling 10 fits\n",
            "Fitting 10 folds for each of 1 candidates, totalling 10 fits\n",
            "Fitting 10 folds for each of 1 candidates, totalling 10 fits\n",
            "Fitting 10 folds for each of 1 candidates, totalling 10 fits\n",
            "Fitting 10 folds for each of 1 candidates, totalling 10 fits\n",
            "Fitting 10 folds for each of 1 candidates, totalling 10 fits\n",
            "Fitting 10 folds for each of 1 candidates, totalling 10 fits\n",
            "Fitting 10 folds for each of 1 candidates, totalling 10 fits\n",
            "Fitting 10 folds for each of 1 candidates, totalling 10 fits\n",
            "Fitting 10 folds for each of 1 candidates, totalling 10 fits\n",
            "Fitting 10 folds for each of 1 candidates, totalling 10 fits\n",
            "Fitting 10 folds for each of 1 candidates, totalling 10 fits\n",
            "Fitting 10 folds for each of 1 candidates, totalling 10 fits\n",
            "Fitting 10 folds for each of 1 candidates, totalling 10 fits\n",
            "Fitting 10 folds for each of 1 candidates, totalling 10 fits\n",
            "Fitting 10 folds for each of 1 candidates, totalling 10 fits\n",
            "Fitting 10 folds for each of 1 candidates, totalling 10 fits\n",
            "Fitting 10 folds for each of 1 candidates, totalling 10 fits\n",
            "Fitting 10 folds for each of 1 candidates, totalling 10 fits\n",
            "Fitting 10 folds for each of 1 candidates, totalling 10 fits\n",
            "Best Training Score:  0.9988153783647684 \n",
            "Best Test Score:  0.993154761904762 \n",
            "Hold Out Test Score:  0.9963680387409202\n"
          ]
        }
      ]
    },
    {
      "cell_type": "code",
      "source": [
        "#Y_pred = hpest.predict(X_val)\n",
        "#from sklearn.metrics import classification_report\n",
        "print(classification_report(y_val, Y_pred))"
      ],
      "metadata": {
        "colab": {
          "base_uri": "https://localhost:8080/"
        },
        "id": "ixSxzePBUeJI",
        "outputId": "1c9cdb85-85de-4246-f072-b1db73ddb24f"
      },
      "execution_count": null,
      "outputs": [
        {
          "output_type": "stream",
          "name": "stdout",
          "text": [
            "              precision    recall  f1-score   support\n",
            "\n",
            "           0       0.95      1.00      0.98       118\n",
            "           1       1.00      0.91      0.96        70\n",
            "\n",
            "    accuracy                           0.97       188\n",
            "   macro avg       0.98      0.96      0.97       188\n",
            "weighted avg       0.97      0.97      0.97       188\n",
            "\n"
          ]
        }
      ]
    },
    {
      "cell_type": "code",
      "source": [
        "y_val.shape, y_pred.shape, X_train.shape"
      ],
      "metadata": {
        "colab": {
          "base_uri": "https://localhost:8080/"
        },
        "id": "HcwbKBHjVTZK",
        "outputId": "72dfa96b-bd6d-4ebf-a8e8-84356826e03b"
      },
      "execution_count": null,
      "outputs": [
        {
          "output_type": "execute_result",
          "data": {
            "text/plain": [
              "((188,), (381,), (381, 30))"
            ]
          },
          "metadata": {},
          "execution_count": 131
        }
      ]
    },
    {
      "cell_type": "code",
      "source": [
        "Y_pred = search_space.best_estimator_.predict(X_val)"
      ],
      "metadata": {
        "id": "7pXL4ZXOUy9y"
      },
      "execution_count": null,
      "outputs": []
    },
    {
      "cell_type": "code",
      "source": [
        "search_space.best_estimator_"
      ],
      "metadata": {
        "id": "sJvp5mx3vtjF",
        "outputId": "d79f47ad-bbb9-4459-b979-2cf35915ceb2",
        "colab": {
          "base_uri": "https://localhost:8080/"
        }
      },
      "execution_count": null,
      "outputs": [
        {
          "output_type": "execute_result",
          "data": {
            "text/plain": [
              "GradientBoostingClassifier(learning_rate=0.3, max_features='sqrt',\n",
              "                           min_samples_split=72, n_estimators=300,\n",
              "                           n_iter_no_change=100, random_state=10)"
            ]
          },
          "metadata": {},
          "execution_count": 151
        }
      ]
    },
    {
      "cell_type": "code",
      "source": [
        "from sklearn.preprocessing import StandardScaler  \n",
        "from sklearn.preprocessing import LabelEncoder\n",
        "labelencoder= LabelEncoder()  \n",
        "standardscaler= StandardScaler()\n",
        "X=data.drop(['id','diagnosis'],axis=1)\n",
        "\n",
        "X_scaled= standardscaler.fit_transform(X)\n",
        "y=data[\"diagnosis\"]\n",
        "\n",
        "X_train,X_val,y_train,y_val = train_test_split(X_scaled,y, stratify=y,test_size=0.33, random_state=42)"
      ],
      "metadata": {
        "id": "JMrVa07Bjx1F"
      },
      "execution_count": null,
      "outputs": []
    },
    {
      "cell_type": "code",
      "source": [
        "\n",
        "# Using 5x2 statistical hypothesis testing procedure to compare two machine learning algorithms\n",
        "from numpy import mean\n",
        "from numpy import std\n",
        "\n",
        "from sklearn.model_selection import cross_val_score\n",
        "from sklearn.model_selection import RepeatedStratifiedKFold\n",
        "\n",
        "from mlxtend.evaluate import paired_ttest_5x2cv\n",
        "\n",
        "# evaluate model 1\n",
        "model1 = bmodel\n",
        "cv1 = RepeatedStratifiedKFold(n_splits=2, n_repeats=5, random_state=1)\n",
        "scores1 = cross_val_score(model1, X, y, scoring='accuracy', cv=cv1, n_jobs=-1)\n",
        "print('AutoML Mean Accuracy: %.3f (%.3f)' % (mean(scores1), std(scores1)))\n",
        "# evaluate model 2\n",
        "model2 = search_space.best_estimator_\n",
        "cv2 = RepeatedStratifiedKFold(n_splits=2, n_repeats=5, random_state=1)\n",
        "scores2 = cross_val_score(model2, X, y, scoring='accuracy', cv=cv2, n_jobs=-1)\n",
        "print('GBC Mean Accuracy: %.3f (%.3f)' % (mean(scores2), std(scores2)))\n",
        "# check if difference between algorithms is real\n",
        "t, p = paired_ttest_5x2cv(estimator1=model1, estimator2=model2, X=X, y=y, scoring='accuracy', random_seed=1)\n",
        "# summarize\n",
        "print('P-value: %.3f, t-Statistic: %.3f' % (p, t))\n",
        "# interpret the result\n",
        "if p <= 0.05:\n",
        "\tprint('Difference between mean performance is probably real')\n",
        "else:\n",
        "\tprint('Algorithms probably have the same performance')"
      ],
      "metadata": {
        "colab": {
          "base_uri": "https://localhost:8080/"
        },
        "id": "dR7M-veqjA30",
        "outputId": "68e332ef-41b4-4ed9-c68e-9d1d08d85559"
      },
      "execution_count": null,
      "outputs": [
        {
          "output_type": "stream",
          "name": "stdout",
          "text": [
            "AutoML Mean Accuracy: 0.949 (0.013)\n",
            "GBC Mean Accuracy: 0.963 (0.013)\n",
            "P-value: 0.546, t-Statistic: -0.647\n",
            "Algorithms probably have the same performance\n"
          ]
        }
      ]
    }
  ]
}